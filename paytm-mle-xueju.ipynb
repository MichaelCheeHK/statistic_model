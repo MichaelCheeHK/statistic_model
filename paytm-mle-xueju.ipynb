{
 "cells": [
  {
   "cell_type": "markdown",
   "id": "banner-russian",
   "metadata": {},
   "source": [
    "# Import Packages"
   ]
  },
  {
   "cell_type": "code",
   "execution_count": 168,
   "id": "extensive-narrow",
   "metadata": {},
   "outputs": [],
   "source": [
    "import pandas as pd\n",
    "import numpy as np\n",
    "import datetime\n",
    "from sklearn.model_selection import train_test_split\n",
    "from sklearn.preprocessing import LabelEncoder\n",
    "from sklearn.neighbors import KNeighborsClassifier # Import K Nearest Neighbors Classifier\n",
    "from sklearn import metrics #Import scikit-learn metrics module for accuracy calculation"
   ]
  },
  {
   "cell_type": "markdown",
   "id": "expensive-configuration",
   "metadata": {},
   "source": [
    "# Read Data"
   ]
  },
  {
   "cell_type": "code",
   "execution_count": 13,
   "id": "compliant-gauge",
   "metadata": {},
   "outputs": [],
   "source": [
    "unames=['MovieID','Title', 'Genres']\n",
    "movie = pd.read_table('movies.txt', sep='::', names=unames, engine='python')"
   ]
  },
  {
   "cell_type": "code",
   "execution_count": 14,
   "id": "administrative-baptist",
   "metadata": {},
   "outputs": [
    {
     "data": {
      "text/html": [
       "<div>\n",
       "<style scoped>\n",
       "    .dataframe tbody tr th:only-of-type {\n",
       "        vertical-align: middle;\n",
       "    }\n",
       "\n",
       "    .dataframe tbody tr th {\n",
       "        vertical-align: top;\n",
       "    }\n",
       "\n",
       "    .dataframe thead th {\n",
       "        text-align: right;\n",
       "    }\n",
       "</style>\n",
       "<table border=\"1\" class=\"dataframe\">\n",
       "  <thead>\n",
       "    <tr style=\"text-align: right;\">\n",
       "      <th></th>\n",
       "      <th>MovieID</th>\n",
       "      <th>Title</th>\n",
       "      <th>Genres</th>\n",
       "    </tr>\n",
       "  </thead>\n",
       "  <tbody>\n",
       "    <tr>\n",
       "      <th>0</th>\n",
       "      <td>1.0</td>\n",
       "      <td>Toy Story (1995)</td>\n",
       "      <td>Adventure|Animation|Children|Comedy|Fantasy</td>\n",
       "    </tr>\n",
       "    <tr>\n",
       "      <th>1</th>\n",
       "      <td>2.0</td>\n",
       "      <td>Jumanji (1995)</td>\n",
       "      <td>Adventure|Children|Fantasy</td>\n",
       "    </tr>\n",
       "    <tr>\n",
       "      <th>2</th>\n",
       "      <td>3.0</td>\n",
       "      <td>Grumpier Old Men (1995)</td>\n",
       "      <td>Comedy|Romance</td>\n",
       "    </tr>\n",
       "    <tr>\n",
       "      <th>3</th>\n",
       "      <td>4.0</td>\n",
       "      <td>Waiting to Exhale (1995)</td>\n",
       "      <td>Comedy|Drama|Romance</td>\n",
       "    </tr>\n",
       "    <tr>\n",
       "      <th>4</th>\n",
       "      <td>5.0</td>\n",
       "      <td>Father of the Bride Part II (1995)</td>\n",
       "      <td>Comedy</td>\n",
       "    </tr>\n",
       "  </tbody>\n",
       "</table>\n",
       "</div>"
      ],
      "text/plain": [
       "   MovieID                               Title  \\\n",
       "0      1.0                    Toy Story (1995)   \n",
       "1      2.0                      Jumanji (1995)   \n",
       "2      3.0             Grumpier Old Men (1995)   \n",
       "3      4.0            Waiting to Exhale (1995)   \n",
       "4      5.0  Father of the Bride Part II (1995)   \n",
       "\n",
       "                                        Genres  \n",
       "0  Adventure|Animation|Children|Comedy|Fantasy  \n",
       "1                   Adventure|Children|Fantasy  \n",
       "2                               Comedy|Romance  \n",
       "3                         Comedy|Drama|Romance  \n",
       "4                                       Comedy  "
      ]
     },
     "execution_count": 14,
     "metadata": {},
     "output_type": "execute_result"
    }
   ],
   "source": [
    "movie.head()"
   ]
  },
  {
   "cell_type": "code",
   "execution_count": 15,
   "id": "nuclear-wright",
   "metadata": {},
   "outputs": [],
   "source": [
    "unames=['UserID','MovieID', 'Rating', 'Timestamp']\n",
    "rating = pd.read_table('ratings.txt', sep='::', names=unames, engine='python')"
   ]
  },
  {
   "cell_type": "code",
   "execution_count": 16,
   "id": "vietnamese-capture",
   "metadata": {},
   "outputs": [
    {
     "data": {
      "text/html": [
       "<div>\n",
       "<style scoped>\n",
       "    .dataframe tbody tr th:only-of-type {\n",
       "        vertical-align: middle;\n",
       "    }\n",
       "\n",
       "    .dataframe tbody tr th {\n",
       "        vertical-align: top;\n",
       "    }\n",
       "\n",
       "    .dataframe thead th {\n",
       "        text-align: right;\n",
       "    }\n",
       "</style>\n",
       "<table border=\"1\" class=\"dataframe\">\n",
       "  <thead>\n",
       "    <tr style=\"text-align: right;\">\n",
       "      <th></th>\n",
       "      <th>UserID</th>\n",
       "      <th>MovieID</th>\n",
       "      <th>Rating</th>\n",
       "      <th>Timestamp</th>\n",
       "    </tr>\n",
       "  </thead>\n",
       "  <tbody>\n",
       "    <tr>\n",
       "      <th>0</th>\n",
       "      <td>1.0</td>\n",
       "      <td>122.0</td>\n",
       "      <td>5.0</td>\n",
       "      <td>838985046</td>\n",
       "    </tr>\n",
       "    <tr>\n",
       "      <th>1</th>\n",
       "      <td>1.0</td>\n",
       "      <td>185.0</td>\n",
       "      <td>5.0</td>\n",
       "      <td>838983525</td>\n",
       "    </tr>\n",
       "    <tr>\n",
       "      <th>2</th>\n",
       "      <td>1.0</td>\n",
       "      <td>231.0</td>\n",
       "      <td>5.0</td>\n",
       "      <td>838983392</td>\n",
       "    </tr>\n",
       "    <tr>\n",
       "      <th>3</th>\n",
       "      <td>1.0</td>\n",
       "      <td>292.0</td>\n",
       "      <td>5.0</td>\n",
       "      <td>838983421</td>\n",
       "    </tr>\n",
       "    <tr>\n",
       "      <th>4</th>\n",
       "      <td>1.0</td>\n",
       "      <td>316.0</td>\n",
       "      <td>5.0</td>\n",
       "      <td>838983392</td>\n",
       "    </tr>\n",
       "  </tbody>\n",
       "</table>\n",
       "</div>"
      ],
      "text/plain": [
       "   UserID  MovieID  Rating  Timestamp\n",
       "0     1.0    122.0     5.0  838985046\n",
       "1     1.0    185.0     5.0  838983525\n",
       "2     1.0    231.0     5.0  838983392\n",
       "3     1.0    292.0     5.0  838983421\n",
       "4     1.0    316.0     5.0  838983392"
      ]
     },
     "execution_count": 16,
     "metadata": {},
     "output_type": "execute_result"
    }
   ],
   "source": [
    "rating.head()"
   ]
  },
  {
   "cell_type": "markdown",
   "id": "least-sleep",
   "metadata": {},
   "source": [
    "# Data Processing"
   ]
  },
  {
   "cell_type": "markdown",
   "id": "fossil-glucose",
   "metadata": {},
   "source": [
    "## Data Formatting"
   ]
  },
  {
   "cell_type": "code",
   "execution_count": 48,
   "id": "assigned-bowling",
   "metadata": {},
   "outputs": [],
   "source": [
    "# Convert UTC in the rating file into DateTime\n",
    "rating['Timestamp2']=pd.to_datetime(rating['Timestamp'], unit='s')"
   ]
  },
  {
   "cell_type": "code",
   "execution_count": 49,
   "id": "fuzzy-uruguay",
   "metadata": {},
   "outputs": [
    {
     "data": {
      "text/html": [
       "<div>\n",
       "<style scoped>\n",
       "    .dataframe tbody tr th:only-of-type {\n",
       "        vertical-align: middle;\n",
       "    }\n",
       "\n",
       "    .dataframe tbody tr th {\n",
       "        vertical-align: top;\n",
       "    }\n",
       "\n",
       "    .dataframe thead th {\n",
       "        text-align: right;\n",
       "    }\n",
       "</style>\n",
       "<table border=\"1\" class=\"dataframe\">\n",
       "  <thead>\n",
       "    <tr style=\"text-align: right;\">\n",
       "      <th></th>\n",
       "      <th>UserID</th>\n",
       "      <th>MovieID</th>\n",
       "      <th>Rating</th>\n",
       "      <th>Timestamp</th>\n",
       "      <th>Timestamp2</th>\n",
       "    </tr>\n",
       "  </thead>\n",
       "  <tbody>\n",
       "    <tr>\n",
       "      <th>0</th>\n",
       "      <td>1.0</td>\n",
       "      <td>122.0</td>\n",
       "      <td>5.0</td>\n",
       "      <td>838985046</td>\n",
       "      <td>1996-08-02 11:24:06</td>\n",
       "    </tr>\n",
       "    <tr>\n",
       "      <th>1</th>\n",
       "      <td>1.0</td>\n",
       "      <td>185.0</td>\n",
       "      <td>5.0</td>\n",
       "      <td>838983525</td>\n",
       "      <td>1996-08-02 10:58:45</td>\n",
       "    </tr>\n",
       "    <tr>\n",
       "      <th>2</th>\n",
       "      <td>1.0</td>\n",
       "      <td>231.0</td>\n",
       "      <td>5.0</td>\n",
       "      <td>838983392</td>\n",
       "      <td>1996-08-02 10:56:32</td>\n",
       "    </tr>\n",
       "    <tr>\n",
       "      <th>3</th>\n",
       "      <td>1.0</td>\n",
       "      <td>292.0</td>\n",
       "      <td>5.0</td>\n",
       "      <td>838983421</td>\n",
       "      <td>1996-08-02 10:57:01</td>\n",
       "    </tr>\n",
       "    <tr>\n",
       "      <th>4</th>\n",
       "      <td>1.0</td>\n",
       "      <td>316.0</td>\n",
       "      <td>5.0</td>\n",
       "      <td>838983392</td>\n",
       "      <td>1996-08-02 10:56:32</td>\n",
       "    </tr>\n",
       "  </tbody>\n",
       "</table>\n",
       "</div>"
      ],
      "text/plain": [
       "   UserID  MovieID  Rating  Timestamp          Timestamp2\n",
       "0     1.0    122.0     5.0  838985046 1996-08-02 11:24:06\n",
       "1     1.0    185.0     5.0  838983525 1996-08-02 10:58:45\n",
       "2     1.0    231.0     5.0  838983392 1996-08-02 10:56:32\n",
       "3     1.0    292.0     5.0  838983421 1996-08-02 10:57:01\n",
       "4     1.0    316.0     5.0  838983392 1996-08-02 10:56:32"
      ]
     },
     "execution_count": 49,
     "metadata": {},
     "output_type": "execute_result"
    }
   ],
   "source": [
    "rating.head()"
   ]
  },
  {
   "cell_type": "code",
   "execution_count": 59,
   "id": "collected-jerusalem",
   "metadata": {},
   "outputs": [
    {
     "name": "stdout",
     "output_type": "stream",
     "text": [
      "MovieID    float64\n",
      "Title       object\n",
      "Genres      object\n",
      "dtype: object\n",
      "UserID               float64\n",
      "MovieID              float64\n",
      "Rating               float64\n",
      "Timestamp              int64\n",
      "Timestamp2    datetime64[ns]\n",
      "dtype: object\n"
     ]
    }
   ],
   "source": [
    "# Check the column format\n",
    "print(movie.dtypes)\n",
    "print(rating.dtypes)"
   ]
  },
  {
   "cell_type": "markdown",
   "id": "synthetic-colleague",
   "metadata": {},
   "source": [
    "## Missing Processing"
   ]
  },
  {
   "cell_type": "code",
   "execution_count": 52,
   "id": "limiting-gentleman",
   "metadata": {},
   "outputs": [
    {
     "name": "stdout",
     "output_type": "stream",
     "text": [
      "MovieID\n",
      "False    10686\n",
      "True         4\n",
      "Name: MovieID, dtype: int64\n",
      "\n",
      "Title\n",
      "False    10689\n",
      "True         1\n",
      "Name: Title, dtype: int64\n",
      "\n",
      "Genres\n",
      "False    10690\n",
      "Name: Genres, dtype: int64\n",
      "\n"
     ]
    }
   ],
   "source": [
    "# Detect movie data missings\n",
    "movie_missing=movie.isnull()\n",
    "for column in movie_missing.columns.values.tolist():\n",
    "    print(column)\n",
    "    print (movie_missing[column].value_counts())\n",
    "    print(\"\")"
   ]
  },
  {
   "cell_type": "code",
   "execution_count": 53,
   "id": "close-freedom",
   "metadata": {},
   "outputs": [
    {
     "name": "stdout",
     "output_type": "stream",
     "text": [
      "UserID\n",
      "False    10000054\n",
      "True            1\n",
      "Name: UserID, dtype: int64\n",
      "\n",
      "MovieID\n",
      "False    10000053\n",
      "True            2\n",
      "Name: MovieID, dtype: int64\n",
      "\n",
      "Rating\n",
      "False    10000051\n",
      "True            4\n",
      "Name: Rating, dtype: int64\n",
      "\n",
      "Timestamp\n",
      "False    10000055\n",
      "Name: Timestamp, dtype: int64\n",
      "\n",
      "Timestamp2\n",
      "False    10000055\n",
      "Name: Timestamp2, dtype: int64\n",
      "\n"
     ]
    }
   ],
   "source": [
    "# Detect rating data missings\n",
    "rating_missing=rating.isnull()\n",
    "for column in rating_missing.columns.values.tolist():\n",
    "    print(column)\n",
    "    print (rating_missing[column].value_counts())\n",
    "    print(\"\")"
   ]
  },
  {
   "cell_type": "code",
   "execution_count": 57,
   "id": "cheap-colombia",
   "metadata": {},
   "outputs": [],
   "source": [
    "# Very few missings, let's just drop them\n",
    "movie=movie.dropna()\n",
    "rating=rating.dropna()"
   ]
  },
  {
   "cell_type": "markdown",
   "id": "raising-sight",
   "metadata": {},
   "source": [
    "## Merge Movie with Ratings"
   ]
  },
  {
   "cell_type": "code",
   "execution_count": 60,
   "id": "expanded-brake",
   "metadata": {},
   "outputs": [],
   "source": [
    "df=pd.merge(movie, rating, on='MovieID')"
   ]
  },
  {
   "cell_type": "code",
   "execution_count": 115,
   "id": "described-discharge",
   "metadata": {},
   "outputs": [],
   "source": [
    "df[[\"Rating\"]] = df[[\"Rating\"]].astype(\"int\")"
   ]
  },
  {
   "cell_type": "code",
   "execution_count": 116,
   "id": "underlying-difficulty",
   "metadata": {},
   "outputs": [
    {
     "data": {
      "text/html": [
       "<div>\n",
       "<style scoped>\n",
       "    .dataframe tbody tr th:only-of-type {\n",
       "        vertical-align: middle;\n",
       "    }\n",
       "\n",
       "    .dataframe tbody tr th {\n",
       "        vertical-align: top;\n",
       "    }\n",
       "\n",
       "    .dataframe thead th {\n",
       "        text-align: right;\n",
       "    }\n",
       "</style>\n",
       "<table border=\"1\" class=\"dataframe\">\n",
       "  <thead>\n",
       "    <tr style=\"text-align: right;\">\n",
       "      <th></th>\n",
       "      <th>MovieID</th>\n",
       "      <th>Title</th>\n",
       "      <th>Genres</th>\n",
       "      <th>UserID</th>\n",
       "      <th>Rating</th>\n",
       "      <th>Timestamp</th>\n",
       "      <th>Timestamp2</th>\n",
       "    </tr>\n",
       "  </thead>\n",
       "  <tbody>\n",
       "    <tr>\n",
       "      <th>0</th>\n",
       "      <td>1.0</td>\n",
       "      <td>Toy Story (1995)</td>\n",
       "      <td>Adventure|Animation|Children|Comedy|Fantasy</td>\n",
       "      <td>5.0</td>\n",
       "      <td>1</td>\n",
       "      <td>857911264</td>\n",
       "      <td>1997-03-09 12:41:04</td>\n",
       "    </tr>\n",
       "    <tr>\n",
       "      <th>1</th>\n",
       "      <td>1.0</td>\n",
       "      <td>Toy Story (1995)</td>\n",
       "      <td>Adventure|Animation|Children|Comedy|Fantasy</td>\n",
       "      <td>14.0</td>\n",
       "      <td>3</td>\n",
       "      <td>1133572007</td>\n",
       "      <td>2005-12-03 01:06:47</td>\n",
       "    </tr>\n",
       "    <tr>\n",
       "      <th>2</th>\n",
       "      <td>1.0</td>\n",
       "      <td>Toy Story (1995)</td>\n",
       "      <td>Adventure|Animation|Children|Comedy|Fantasy</td>\n",
       "      <td>18.0</td>\n",
       "      <td>3</td>\n",
       "      <td>1111545931</td>\n",
       "      <td>2005-03-23 02:45:31</td>\n",
       "    </tr>\n",
       "    <tr>\n",
       "      <th>3</th>\n",
       "      <td>1.0</td>\n",
       "      <td>Toy Story (1995)</td>\n",
       "      <td>Adventure|Animation|Children|Comedy|Fantasy</td>\n",
       "      <td>23.0</td>\n",
       "      <td>5</td>\n",
       "      <td>849543482</td>\n",
       "      <td>1996-12-02 16:18:02</td>\n",
       "    </tr>\n",
       "    <tr>\n",
       "      <th>4</th>\n",
       "      <td>1.0</td>\n",
       "      <td>Toy Story (1995)</td>\n",
       "      <td>Adventure|Animation|Children|Comedy|Fantasy</td>\n",
       "      <td>24.0</td>\n",
       "      <td>5</td>\n",
       "      <td>868254237</td>\n",
       "      <td>1997-07-07 05:43:57</td>\n",
       "    </tr>\n",
       "  </tbody>\n",
       "</table>\n",
       "</div>"
      ],
      "text/plain": [
       "   MovieID             Title                                       Genres  \\\n",
       "0      1.0  Toy Story (1995)  Adventure|Animation|Children|Comedy|Fantasy   \n",
       "1      1.0  Toy Story (1995)  Adventure|Animation|Children|Comedy|Fantasy   \n",
       "2      1.0  Toy Story (1995)  Adventure|Animation|Children|Comedy|Fantasy   \n",
       "3      1.0  Toy Story (1995)  Adventure|Animation|Children|Comedy|Fantasy   \n",
       "4      1.0  Toy Story (1995)  Adventure|Animation|Children|Comedy|Fantasy   \n",
       "\n",
       "   UserID  Rating   Timestamp          Timestamp2  \n",
       "0     5.0       1   857911264 1997-03-09 12:41:04  \n",
       "1    14.0       3  1133572007 2005-12-03 01:06:47  \n",
       "2    18.0       3  1111545931 2005-03-23 02:45:31  \n",
       "3    23.0       5   849543482 1996-12-02 16:18:02  \n",
       "4    24.0       5   868254237 1997-07-07 05:43:57  "
      ]
     },
     "execution_count": 116,
     "metadata": {},
     "output_type": "execute_result"
    }
   ],
   "source": [
    "df.head()"
   ]
  },
  {
   "cell_type": "markdown",
   "id": "frequent-north",
   "metadata": {},
   "source": [
    "# Data Description"
   ]
  },
  {
   "cell_type": "code",
   "execution_count": 117,
   "id": "fifth-particle",
   "metadata": {},
   "outputs": [
    {
     "data": {
      "text/html": [
       "<div>\n",
       "<style scoped>\n",
       "    .dataframe tbody tr th:only-of-type {\n",
       "        vertical-align: middle;\n",
       "    }\n",
       "\n",
       "    .dataframe tbody tr th {\n",
       "        vertical-align: top;\n",
       "    }\n",
       "\n",
       "    .dataframe thead th {\n",
       "        text-align: right;\n",
       "    }\n",
       "</style>\n",
       "<table border=\"1\" class=\"dataframe\">\n",
       "  <thead>\n",
       "    <tr style=\"text-align: right;\">\n",
       "      <th></th>\n",
       "      <th>MovieID</th>\n",
       "      <th>UserID</th>\n",
       "      <th>Rating</th>\n",
       "      <th>Timestamp</th>\n",
       "    </tr>\n",
       "  </thead>\n",
       "  <tbody>\n",
       "    <tr>\n",
       "      <th>count</th>\n",
       "      <td>9.996604e+06</td>\n",
       "      <td>9.996604e+06</td>\n",
       "      <td>9.996604e+06</td>\n",
       "      <td>9.996604e+06</td>\n",
       "    </tr>\n",
       "    <tr>\n",
       "      <th>mean</th>\n",
       "      <td>4.115497e+03</td>\n",
       "      <td>3.586991e+04</td>\n",
       "      <td>-8.557743e+02</td>\n",
       "      <td>1.032593e+09</td>\n",
       "    </tr>\n",
       "    <tr>\n",
       "      <th>std</th>\n",
       "      <td>8.930424e+03</td>\n",
       "      <td>2.058528e+04</td>\n",
       "      <td>1.358418e+06</td>\n",
       "      <td>1.159565e+08</td>\n",
       "    </tr>\n",
       "    <tr>\n",
       "      <th>min</th>\n",
       "      <td>1.000000e+00</td>\n",
       "      <td>1.000000e+00</td>\n",
       "      <td>-2.147484e+09</td>\n",
       "      <td>7.896520e+08</td>\n",
       "    </tr>\n",
       "    <tr>\n",
       "      <th>25%</th>\n",
       "      <td>6.480000e+02</td>\n",
       "      <td>1.812300e+04</td>\n",
       "      <td>3.000000e+00</td>\n",
       "      <td>9.467661e+08</td>\n",
       "    </tr>\n",
       "    <tr>\n",
       "      <th>50%</th>\n",
       "      <td>1.834000e+03</td>\n",
       "      <td>3.574000e+04</td>\n",
       "      <td>4.000000e+00</td>\n",
       "      <td>1.035426e+09</td>\n",
       "    </tr>\n",
       "    <tr>\n",
       "      <th>75%</th>\n",
       "      <td>3.624000e+03</td>\n",
       "      <td>5.360800e+04</td>\n",
       "      <td>4.000000e+00</td>\n",
       "      <td>1.126651e+09</td>\n",
       "    </tr>\n",
       "    <tr>\n",
       "      <th>max</th>\n",
       "      <td>6.513300e+04</td>\n",
       "      <td>7.156700e+04</td>\n",
       "      <td>9.999990e+05</td>\n",
       "      <td>1.231132e+09</td>\n",
       "    </tr>\n",
       "  </tbody>\n",
       "</table>\n",
       "</div>"
      ],
      "text/plain": [
       "            MovieID        UserID        Rating     Timestamp\n",
       "count  9.996604e+06  9.996604e+06  9.996604e+06  9.996604e+06\n",
       "mean   4.115497e+03  3.586991e+04 -8.557743e+02  1.032593e+09\n",
       "std    8.930424e+03  2.058528e+04  1.358418e+06  1.159565e+08\n",
       "min    1.000000e+00  1.000000e+00 -2.147484e+09  7.896520e+08\n",
       "25%    6.480000e+02  1.812300e+04  3.000000e+00  9.467661e+08\n",
       "50%    1.834000e+03  3.574000e+04  4.000000e+00  1.035426e+09\n",
       "75%    3.624000e+03  5.360800e+04  4.000000e+00  1.126651e+09\n",
       "max    6.513300e+04  7.156700e+04  9.999990e+05  1.231132e+09"
      ]
     },
     "execution_count": 117,
     "metadata": {},
     "output_type": "execute_result"
    }
   ],
   "source": [
    "df.describe()"
   ]
  },
  {
   "cell_type": "code",
   "execution_count": 118,
   "id": "worldwide-tobago",
   "metadata": {},
   "outputs": [
    {
     "data": {
      "text/html": [
       "<div>\n",
       "<style scoped>\n",
       "    .dataframe tbody tr th:only-of-type {\n",
       "        vertical-align: middle;\n",
       "    }\n",
       "\n",
       "    .dataframe tbody tr th {\n",
       "        vertical-align: top;\n",
       "    }\n",
       "\n",
       "    .dataframe thead th {\n",
       "        text-align: right;\n",
       "    }\n",
       "</style>\n",
       "<table border=\"1\" class=\"dataframe\">\n",
       "  <thead>\n",
       "    <tr style=\"text-align: right;\">\n",
       "      <th></th>\n",
       "      <th>UserID</th>\n",
       "    </tr>\n",
       "    <tr>\n",
       "      <th>Rating</th>\n",
       "      <th></th>\n",
       "    </tr>\n",
       "  </thead>\n",
       "  <tbody>\n",
       "    <tr>\n",
       "      <th>-2147483648</th>\n",
       "      <td>4</td>\n",
       "    </tr>\n",
       "    <tr>\n",
       "      <th>-200</th>\n",
       "      <td>1</td>\n",
       "    </tr>\n",
       "    <tr>\n",
       "      <th>-4</th>\n",
       "      <td>4</td>\n",
       "    </tr>\n",
       "    <tr>\n",
       "      <th>-3</th>\n",
       "      <td>3</td>\n",
       "    </tr>\n",
       "    <tr>\n",
       "      <th>-2</th>\n",
       "      <td>1</td>\n",
       "    </tr>\n",
       "    <tr>\n",
       "      <th>0</th>\n",
       "      <td>94980</td>\n",
       "    </tr>\n",
       "    <tr>\n",
       "      <th>1</th>\n",
       "      <td>502433</td>\n",
       "    </tr>\n",
       "    <tr>\n",
       "      <th>2</th>\n",
       "      <td>1160169</td>\n",
       "    </tr>\n",
       "    <tr>\n",
       "      <th>3</th>\n",
       "      <td>3235098</td>\n",
       "    </tr>\n",
       "    <tr>\n",
       "      <th>4</th>\n",
       "      <td>3459483</td>\n",
       "    </tr>\n",
       "    <tr>\n",
       "      <th>5</th>\n",
       "      <td>1544425</td>\n",
       "    </tr>\n",
       "    <tr>\n",
       "      <th>50</th>\n",
       "      <td>1</td>\n",
       "    </tr>\n",
       "    <tr>\n",
       "      <th>9999</th>\n",
       "      <td>1</td>\n",
       "    </tr>\n",
       "    <tr>\n",
       "      <th>999999</th>\n",
       "      <td>1</td>\n",
       "    </tr>\n",
       "  </tbody>\n",
       "</table>\n",
       "</div>"
      ],
      "text/plain": [
       "              UserID\n",
       "Rating              \n",
       "-2147483648        4\n",
       "-200               1\n",
       "-4                 4\n",
       "-3                 3\n",
       "-2                 1\n",
       " 0             94980\n",
       " 1            502433\n",
       " 2           1160169\n",
       " 3           3235098\n",
       " 4           3459483\n",
       " 5           1544425\n",
       " 50                1\n",
       " 9999              1\n",
       " 999999            1"
      ]
     },
     "execution_count": 118,
     "metadata": {},
     "output_type": "execute_result"
    }
   ],
   "source": [
    "# The rating has some errors because it should be a number between 1 to 5\n",
    "# Check the errors\n",
    "df[['Rating', 'UserID']].groupby(['Rating']).count()"
   ]
  },
  {
   "cell_type": "code",
   "execution_count": 120,
   "id": "tutorial-arrest",
   "metadata": {},
   "outputs": [],
   "source": [
    "# Drop errors\n",
    "df = df.drop(df[df.Rating < 0].index)\n",
    "df = df.drop(df[df.Rating > 5].index)"
   ]
  },
  {
   "cell_type": "code",
   "execution_count": 121,
   "id": "musical-plymouth",
   "metadata": {},
   "outputs": [
    {
     "data": {
      "text/html": [
       "<div>\n",
       "<style scoped>\n",
       "    .dataframe tbody tr th:only-of-type {\n",
       "        vertical-align: middle;\n",
       "    }\n",
       "\n",
       "    .dataframe tbody tr th {\n",
       "        vertical-align: top;\n",
       "    }\n",
       "\n",
       "    .dataframe thead th {\n",
       "        text-align: right;\n",
       "    }\n",
       "</style>\n",
       "<table border=\"1\" class=\"dataframe\">\n",
       "  <thead>\n",
       "    <tr style=\"text-align: right;\">\n",
       "      <th></th>\n",
       "      <th>UserID</th>\n",
       "    </tr>\n",
       "    <tr>\n",
       "      <th>Rating</th>\n",
       "      <th></th>\n",
       "    </tr>\n",
       "  </thead>\n",
       "  <tbody>\n",
       "    <tr>\n",
       "      <th>0</th>\n",
       "      <td>94980</td>\n",
       "    </tr>\n",
       "    <tr>\n",
       "      <th>1</th>\n",
       "      <td>502433</td>\n",
       "    </tr>\n",
       "    <tr>\n",
       "      <th>2</th>\n",
       "      <td>1160169</td>\n",
       "    </tr>\n",
       "    <tr>\n",
       "      <th>3</th>\n",
       "      <td>3235098</td>\n",
       "    </tr>\n",
       "    <tr>\n",
       "      <th>4</th>\n",
       "      <td>3459483</td>\n",
       "    </tr>\n",
       "    <tr>\n",
       "      <th>5</th>\n",
       "      <td>1544425</td>\n",
       "    </tr>\n",
       "  </tbody>\n",
       "</table>\n",
       "</div>"
      ],
      "text/plain": [
       "         UserID\n",
       "Rating         \n",
       "0         94980\n",
       "1        502433\n",
       "2       1160169\n",
       "3       3235098\n",
       "4       3459483\n",
       "5       1544425"
      ]
     },
     "execution_count": 121,
     "metadata": {},
     "output_type": "execute_result"
    }
   ],
   "source": [
    "df[['Rating', 'UserID']].groupby(['Rating']).count()"
   ]
  },
  {
   "cell_type": "markdown",
   "id": "placed-railway",
   "metadata": {},
   "source": [
    "# Data Summary Questions"
   ]
  },
  {
   "cell_type": "code",
   "execution_count": 103,
   "id": "controlled-peripheral",
   "metadata": {},
   "outputs": [
    {
     "data": {
      "text/html": [
       "<div>\n",
       "<style scoped>\n",
       "    .dataframe tbody tr th:only-of-type {\n",
       "        vertical-align: middle;\n",
       "    }\n",
       "\n",
       "    .dataframe tbody tr th {\n",
       "        vertical-align: top;\n",
       "    }\n",
       "\n",
       "    .dataframe thead th {\n",
       "        text-align: right;\n",
       "    }\n",
       "</style>\n",
       "<table border=\"1\" class=\"dataframe\">\n",
       "  <thead>\n",
       "    <tr style=\"text-align: right;\">\n",
       "      <th></th>\n",
       "      <th>Title</th>\n",
       "      <th>UserCount</th>\n",
       "    </tr>\n",
       "  </thead>\n",
       "  <tbody>\n",
       "    <tr>\n",
       "      <th>7659</th>\n",
       "      <td>Pulp Fiction (1994)</td>\n",
       "      <td>34864</td>\n",
       "    </tr>\n",
       "    <tr>\n",
       "      <th>3506</th>\n",
       "      <td>Forrest Gump (1994)</td>\n",
       "      <td>34457</td>\n",
       "    </tr>\n",
       "    <tr>\n",
       "      <th>8593</th>\n",
       "      <td>Silence of the Lambs, The (1991)</td>\n",
       "      <td>33668</td>\n",
       "    </tr>\n",
       "    <tr>\n",
       "      <th>5143</th>\n",
       "      <td>Jurassic Park (1993)</td>\n",
       "      <td>32631</td>\n",
       "    </tr>\n",
       "    <tr>\n",
       "      <th>8497</th>\n",
       "      <td>Shawshank Redemption, The (1994)</td>\n",
       "      <td>31126</td>\n",
       "    </tr>\n",
       "  </tbody>\n",
       "</table>\n",
       "</div>"
      ],
      "text/plain": [
       "                                 Title  UserCount\n",
       "7659               Pulp Fiction (1994)      34864\n",
       "3506               Forrest Gump (1994)      34457\n",
       "8593  Silence of the Lambs, The (1991)      33668\n",
       "5143              Jurassic Park (1993)      32631\n",
       "8497  Shawshank Redemption, The (1994)      31126"
      ]
     },
     "execution_count": 103,
     "metadata": {},
     "output_type": "execute_result"
    }
   ],
   "source": [
    "'''Titles of Top 5 Most Popular Movies'''\n",
    "group_count=df[['Title', 'UserID']].groupby(['Title']).count().reset_index().sort_values(['UserID'], ascending=False).head(5)\n",
    "group_count.rename(columns={'UserID': 'UserCount'})"
   ]
  },
  {
   "cell_type": "code",
   "execution_count": 122,
   "id": "colonial-optimum",
   "metadata": {},
   "outputs": [
    {
     "data": {
      "text/html": [
       "<div>\n",
       "<style scoped>\n",
       "    .dataframe tbody tr th:only-of-type {\n",
       "        vertical-align: middle;\n",
       "    }\n",
       "\n",
       "    .dataframe tbody tr th {\n",
       "        vertical-align: top;\n",
       "    }\n",
       "\n",
       "    .dataframe thead th {\n",
       "        text-align: right;\n",
       "    }\n",
       "</style>\n",
       "<table border=\"1\" class=\"dataframe\">\n",
       "  <thead>\n",
       "    <tr style=\"text-align: right;\">\n",
       "      <th></th>\n",
       "      <th>Genres</th>\n",
       "      <th>Rating</th>\n",
       "    </tr>\n",
       "  </thead>\n",
       "  <tbody>\n",
       "    <tr>\n",
       "      <th>445</th>\n",
       "      <td>Animation|IMAX|Sci-Fi</td>\n",
       "      <td>4.625000</td>\n",
       "    </tr>\n",
       "    <tr>\n",
       "      <th>684</th>\n",
       "      <td>Drama|Film-Noir|Romance</td>\n",
       "      <td>4.240468</td>\n",
       "    </tr>\n",
       "    <tr>\n",
       "      <th>402</th>\n",
       "      <td>Animation|Children|Comedy|Crime</td>\n",
       "      <td>4.180156</td>\n",
       "    </tr>\n",
       "    <tr>\n",
       "      <th>622</th>\n",
       "      <td>Crime|Film-Noir|Mystery</td>\n",
       "      <td>4.167115</td>\n",
       "    </tr>\n",
       "    <tr>\n",
       "      <th>752</th>\n",
       "      <td>Film-Noir|Mystery</td>\n",
       "      <td>4.162975</td>\n",
       "    </tr>\n",
       "  </tbody>\n",
       "</table>\n",
       "</div>"
      ],
      "text/plain": [
       "                              Genres    Rating\n",
       "445            Animation|IMAX|Sci-Fi  4.625000\n",
       "684          Drama|Film-Noir|Romance  4.240468\n",
       "402  Animation|Children|Comedy|Crime  4.180156\n",
       "622          Crime|Film-Noir|Mystery  4.167115\n",
       "752                Film-Noir|Mystery  4.162975"
      ]
     },
     "execution_count": 122,
     "metadata": {},
     "output_type": "execute_result"
    }
   ],
   "source": [
    "''' What are the top 5 ranked movie genres on average in the whole dataset?'''\n",
    "df[['Genres', 'Rating']].groupby(['Genres']).agg('mean').reset_index().sort_values(['Rating'], ascending=False).head(5)"
   ]
  },
  {
   "cell_type": "code",
   "execution_count": 132,
   "id": "assigned-highland",
   "metadata": {},
   "outputs": [
    {
     "data": {
      "text/plain": [
       "Title\n",
       "Star Wars: Episode IV - A New Hope (a.k.a. Star Wars) (1977)    4297\n",
       "Pulp Fiction (1994)                                             4257\n",
       "Silence of the Lambs, The (1991)                                4251\n",
       "Forrest Gump (1994)                                             4238\n",
       "Braveheart (1995)                                               4216\n",
       "                                                                ... \n",
       "Chapayev (1934)                                                    1\n",
       "Ladrones (2007)                                                    1\n",
       "Last Time, The (2006)                                              1\n",
       "Living 'til the End (2005)                                         1\n",
       "Malaya (1949)                                                      1\n",
       "Name: date, Length: 10671, dtype: int64"
      ]
     },
     "execution_count": 132,
     "metadata": {},
     "output_type": "execute_result"
    }
   ],
   "source": [
    "'''How many movies have been ranked the most days?'''\n",
    "df['date']=df['Timestamp2'].dt.date\n",
    "df.groupby('Title').date.nunique().sort_values(ascending=False)\n",
    "# Movie ranked the most days is Star Wars: Episode IV - A New Hope (a.k.a. Star Wars) (1977)"
   ]
  },
  {
   "cell_type": "markdown",
   "id": "computational-halifax",
   "metadata": {},
   "source": [
    "# Data Modelling"
   ]
  },
  {
   "cell_type": "code",
   "execution_count": 133,
   "id": "fantastic-myanmar",
   "metadata": {},
   "outputs": [],
   "source": [
    "# Let's transpose the data and to make the movie as feature\n",
    "df_t=df.pivot_table(index='UserID', columns='Title', values='Rating')"
   ]
  },
  {
   "cell_type": "code",
   "execution_count": 138,
   "id": "three-ultimate",
   "metadata": {},
   "outputs": [],
   "source": [
    "# Fill NA as a negative number -1\n",
    "df_t=df_t.fillna(-1)"
   ]
  },
  {
   "cell_type": "code",
   "execution_count": 150,
   "id": "domestic-motor",
   "metadata": {},
   "outputs": [],
   "source": [
    "# Would find the highest score movie for each user as the target variable\n",
    "# then build a KNN model to use the favourite movie of closes observation as a recommendation to a new user \n",
    "df_t['favourite']=df_t.idxmax(axis=1)"
   ]
  },
  {
   "cell_type": "code",
   "execution_count": 153,
   "id": "jewish-viewer",
   "metadata": {},
   "outputs": [
    {
     "data": {
      "text/plain": [
       "UserID\n",
       "1.0                                    Aladdin (1992)\n",
       "2.0                                 Braveheart (1995)\n",
       "3.0    Burnt by the Sun (Utomlyonnye solntsem) (1994)\n",
       "4.0                       Addams Family Values (1993)\n",
       "5.0                12 Monkeys (Twelve Monkeys) (1995)\n",
       "Name: favourite, dtype: object"
      ]
     },
     "execution_count": 153,
     "metadata": {},
     "output_type": "execute_result"
    }
   ],
   "source": [
    "df_t['favourite'].head()"
   ]
  },
  {
   "cell_type": "code",
   "execution_count": 158,
   "id": "available-ordering",
   "metadata": {},
   "outputs": [],
   "source": [
    "# Get feature X dataset\n",
    "X=df_t.loc[:, df_t.columns != 'UserID']\n",
    "X=df_t.loc[:, df_t.columns != 'favourite']"
   ]
  },
  {
   "cell_type": "code",
   "execution_count": 161,
   "id": "skilled-abraham",
   "metadata": {},
   "outputs": [],
   "source": [
    "# Get target y\n",
    "y=df_t['favourite']"
   ]
  },
  {
   "cell_type": "code",
   "execution_count": 164,
   "id": "perceived-witch",
   "metadata": {},
   "outputs": [],
   "source": [
    "# encode y\n",
    "y = y.values\n",
    "\n",
    "enc = LabelEncoder()\n",
    "label_encoder = enc.fit(y)\n",
    "y = label_encoder.transform(y)"
   ]
  },
  {
   "cell_type": "code",
   "execution_count": 167,
   "id": "respected-norman",
   "metadata": {},
   "outputs": [],
   "source": [
    "# Split train test datasets\n",
    "x_train, x_test, y_train, y_test = train_test_split(X, y, train_size=0.9)"
   ]
  },
  {
   "cell_type": "code",
   "execution_count": 169,
   "id": "communist-measure",
   "metadata": {},
   "outputs": [],
   "source": [
    "# Create KNeighbors Classifier object\n",
    "classifier = KNeighborsClassifier(n_neighbors=1)"
   ]
  },
  {
   "cell_type": "code",
   "execution_count": 170,
   "id": "lightweight-navigator",
   "metadata": {},
   "outputs": [
    {
     "data": {
      "text/plain": [
       "KNeighborsClassifier(n_neighbors=1)"
      ]
     },
     "execution_count": 170,
     "metadata": {},
     "output_type": "execute_result"
    }
   ],
   "source": [
    "# Train the classifier\n",
    "classifier.fit(x_train, y_train)"
   ]
  },
  {
   "cell_type": "code",
   "execution_count": 171,
   "id": "automatic-paradise",
   "metadata": {},
   "outputs": [],
   "source": [
    "# Predict the test values\n",
    "y_pred = classifier.predict(x_test)"
   ]
  },
  {
   "cell_type": "code",
   "execution_count": 177,
   "id": "plastic-expense",
   "metadata": {},
   "outputs": [
    {
     "data": {
      "text/plain": [
       "25"
      ]
     },
     "execution_count": 177,
     "metadata": {},
     "output_type": "execute_result"
    }
   ],
   "source": [
    "'''For the first customer in the test dataset, The prediction is 25th movie after encode'''\n",
    "y_pred[0]"
   ]
  },
  {
   "cell_type": "code",
   "execution_count": 180,
   "id": "minus-assessment",
   "metadata": {},
   "outputs": [
    {
     "data": {
      "text/plain": [
       "array(['12 Monkeys (Twelve Monkeys) (1995)'], dtype=object)"
      ]
     },
     "execution_count": 180,
     "metadata": {},
     "output_type": "execute_result"
    }
   ],
   "source": [
    "# And we can transform it back\n",
    "# The recommend movie for this customer is below\n",
    "enc.inverse_transform([25])"
   ]
  },
  {
   "cell_type": "code",
   "execution_count": 184,
   "id": "young-mountain",
   "metadata": {},
   "outputs": [],
   "source": [
    "y_pred_t=enc.inverse_transform(y_pred)\n",
    "y_pred_df=pd.DataFrame({'Recommend': y_pred_t})"
   ]
  },
  {
   "cell_type": "code",
   "execution_count": 189,
   "id": "twenty-student",
   "metadata": {},
   "outputs": [
    {
     "data": {
      "text/html": [
       "<div>\n",
       "<style scoped>\n",
       "    .dataframe tbody tr th:only-of-type {\n",
       "        vertical-align: middle;\n",
       "    }\n",
       "\n",
       "    .dataframe tbody tr th {\n",
       "        vertical-align: top;\n",
       "    }\n",
       "\n",
       "    .dataframe thead th {\n",
       "        text-align: right;\n",
       "    }\n",
       "</style>\n",
       "<table border=\"1\" class=\"dataframe\">\n",
       "  <thead>\n",
       "    <tr style=\"text-align: right;\">\n",
       "      <th></th>\n",
       "      <th>Recommend</th>\n",
       "    </tr>\n",
       "  </thead>\n",
       "  <tbody>\n",
       "    <tr>\n",
       "      <th>566</th>\n",
       "      <td>Young Frankenstein (1974)</td>\n",
       "    </tr>\n",
       "    <tr>\n",
       "      <th>565</th>\n",
       "      <td>You've Got Mail (1998)</td>\n",
       "    </tr>\n",
       "    <tr>\n",
       "      <th>564</th>\n",
       "      <td>Wizard of Oz, The (1939)</td>\n",
       "    </tr>\n",
       "    <tr>\n",
       "      <th>563</th>\n",
       "      <td>Willy Wonka &amp; the Chocolate Factory (1971)</td>\n",
       "    </tr>\n",
       "    <tr>\n",
       "      <th>562</th>\n",
       "      <td>White Squall (1996)</td>\n",
       "    </tr>\n",
       "  </tbody>\n",
       "</table>\n",
       "</div>"
      ],
      "text/plain": [
       "                                      Recommend\n",
       "566                   Young Frankenstein (1974)\n",
       "565                      You've Got Mail (1998)\n",
       "564                    Wizard of Oz, The (1939)\n",
       "563  Willy Wonka & the Chocolate Factory (1971)\n",
       "562                         White Squall (1996)"
      ]
     },
     "execution_count": 189,
     "metadata": {},
     "output_type": "execute_result"
    }
   ],
   "source": [
    "'''In my test data set, below are the most frequently recommend'''\n",
    "y_pred_df.groupby(['Recommend']).agg('count').reset_index().sort_values(['Recommend'], ascending=False).head(5)"
   ]
  },
  {
   "cell_type": "code",
   "execution_count": null,
   "id": "published-flower",
   "metadata": {},
   "outputs": [],
   "source": []
  }
 ],
 "metadata": {
  "kernelspec": {
   "display_name": "Python 3",
   "language": "python",
   "name": "python3"
  },
  "language_info": {
   "codemirror_mode": {
    "name": "ipython",
    "version": 3
   },
   "file_extension": ".py",
   "mimetype": "text/x-python",
   "name": "python",
   "nbconvert_exporter": "python",
   "pygments_lexer": "ipython3",
   "version": "3.7.3"
  }
 },
 "nbformat": 4,
 "nbformat_minor": 5
}
