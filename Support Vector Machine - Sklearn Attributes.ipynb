{
 "cells": [
  {
   "cell_type": "markdown",
   "id": "homeless-amount",
   "metadata": {},
   "source": [
    "# Data Exploration"
   ]
  },
  {
   "cell_type": "code",
   "execution_count": 286,
   "id": "unlimited-leone",
   "metadata": {},
   "outputs": [],
   "source": [
    "# Read data\n",
    "import pandas as pd\n",
    "df=pd.read_csv('iris.csv')\n",
    "s=set()\n",
    "s=list(s)\n",
    "# Only select two values in the dependent variable to make it binary classification problem\n",
    "df=df[df['variety'].isin(['Setosa', 'Versicolor'])]"
   ]
  },
  {
   "cell_type": "code",
   "execution_count": 287,
   "id": "introductory-administrator",
   "metadata": {},
   "outputs": [
    {
     "data": {
      "text/html": [
       "<div>\n",
       "<style scoped>\n",
       "    .dataframe tbody tr th:only-of-type {\n",
       "        vertical-align: middle;\n",
       "    }\n",
       "\n",
       "    .dataframe tbody tr th {\n",
       "        vertical-align: top;\n",
       "    }\n",
       "\n",
       "    .dataframe thead th {\n",
       "        text-align: right;\n",
       "    }\n",
       "</style>\n",
       "<table border=\"1\" class=\"dataframe\">\n",
       "  <thead>\n",
       "    <tr style=\"text-align: right;\">\n",
       "      <th></th>\n",
       "      <th>sepal.length</th>\n",
       "      <th>sepal.width</th>\n",
       "      <th>petal.length</th>\n",
       "      <th>petal.width</th>\n",
       "      <th>variety</th>\n",
       "    </tr>\n",
       "  </thead>\n",
       "  <tbody>\n",
       "    <tr>\n",
       "      <th>0</th>\n",
       "      <td>5.1</td>\n",
       "      <td>3.5</td>\n",
       "      <td>1.4</td>\n",
       "      <td>0.2</td>\n",
       "      <td>Setosa</td>\n",
       "    </tr>\n",
       "    <tr>\n",
       "      <th>1</th>\n",
       "      <td>4.9</td>\n",
       "      <td>3.0</td>\n",
       "      <td>1.4</td>\n",
       "      <td>0.2</td>\n",
       "      <td>Setosa</td>\n",
       "    </tr>\n",
       "    <tr>\n",
       "      <th>2</th>\n",
       "      <td>4.7</td>\n",
       "      <td>3.2</td>\n",
       "      <td>1.3</td>\n",
       "      <td>0.2</td>\n",
       "      <td>Setosa</td>\n",
       "    </tr>\n",
       "    <tr>\n",
       "      <th>3</th>\n",
       "      <td>4.6</td>\n",
       "      <td>3.1</td>\n",
       "      <td>1.5</td>\n",
       "      <td>0.2</td>\n",
       "      <td>Setosa</td>\n",
       "    </tr>\n",
       "    <tr>\n",
       "      <th>4</th>\n",
       "      <td>5.0</td>\n",
       "      <td>3.6</td>\n",
       "      <td>1.4</td>\n",
       "      <td>0.2</td>\n",
       "      <td>Setosa</td>\n",
       "    </tr>\n",
       "  </tbody>\n",
       "</table>\n",
       "</div>"
      ],
      "text/plain": [
       "   sepal.length  sepal.width  petal.length  petal.width variety\n",
       "0           5.1          3.5           1.4          0.2  Setosa\n",
       "1           4.9          3.0           1.4          0.2  Setosa\n",
       "2           4.7          3.2           1.3          0.2  Setosa\n",
       "3           4.6          3.1           1.5          0.2  Setosa\n",
       "4           5.0          3.6           1.4          0.2  Setosa"
      ]
     },
     "execution_count": 287,
     "metadata": {},
     "output_type": "execute_result"
    }
   ],
   "source": [
    "df.head()"
   ]
  },
  {
   "cell_type": "code",
   "execution_count": 288,
   "id": "stuck-amateur",
   "metadata": {},
   "outputs": [],
   "source": [
    "# Plot the data\n",
    "import matplotlib.pyplot as plt\n",
    "df_feature=df[['sepal.length','petal.length', 'variety']]\n",
    "\n",
    "setosa_x=df_feature[df_feature['variety']=='Setosa']['sepal.length']\n",
    "versicolor_x=df_feature[df_feature['variety']=='Versicolor']['sepal.length']\n",
    "\n",
    "setosa_y=df_feature[df_feature['variety']=='Setosa']['petal.length']\n",
    "versicolor_y=df_feature[df_feature['variety']=='Versicolor']['petal.length']"
   ]
  },
  {
   "cell_type": "code",
   "execution_count": 289,
   "id": "brave-haiti",
   "metadata": {},
   "outputs": [
    {
     "data": {
      "image/png": "[encoded data removed]",
      "text/plain": [
       "<Figure size 576x432 with 1 Axes>"
      ]
     },
     "metadata": {
      "needs_background": "light"
     },
     "output_type": "display_data"
    }
   ],
   "source": [
    "plt.figure(figsize=(8,6))\n",
    "plt.scatter(setosa_x,setosa_y,marker='+',color='green')\n",
    "plt.scatter(versicolor_x,versicolor_y,marker='_',color='red')\n",
    "plt.show()"
   ]
  },
  {
   "cell_type": "code",
   "execution_count": 297,
   "id": "crucial-psychology",
   "metadata": {},
   "outputs": [],
   "source": [
    "# Generate dataset to fit into the model\n",
    "from sklearn.utils import shuffle\n",
    "from sklearn.model_selection import train_test_split\n",
    "import numpy as np\n",
    "target=df_feature['variety']\n",
    "Y=[]\n",
    "for val in target:\n",
    "    if val=='Setosa':\n",
    "        Y.append(-1)\n",
    "    else:\n",
    "        Y.append(1)\n",
    "X=np.array(df_feature[['sepal.length','petal.length']])\n",
    "# Normalized the data\n",
    "from sklearn.preprocessing import MinMaxScaler\n",
    "X_normalized=MinMaxScaler().fit_transform(X)\n",
    "X = pd.DataFrame(X_normalized)"
   ]
  },
  {
   "cell_type": "code",
   "execution_count": 298,
   "id": "smoking-basic",
   "metadata": {},
   "outputs": [],
   "source": [
    "X,Y=shuffle(X,Y)"
   ]
  },
  {
   "cell_type": "code",
   "execution_count": 299,
   "id": "derived-syria",
   "metadata": {},
   "outputs": [],
   "source": [
    "x_train, x_test, y_train, y_test = train_test_split(X, Y, train_size=0.9)"
   ]
  },
  {
   "cell_type": "markdown",
   "id": "cooperative-sugar",
   "metadata": {},
   "source": [
    "# Support Vector Machine Model"
   ]
  },
  {
   "cell_type": "markdown",
   "id": "informal-abuse",
   "metadata": {},
   "source": [
    "## Use sklearn"
   ]
  },
  {
   "cell_type": "code",
   "execution_count": 405,
   "id": "joined-diagram",
   "metadata": {},
   "outputs": [],
   "source": [
    "from sklearn import svm\n",
    "\n",
    "# Create a svm Classifier. Let give it a big C to make it hard margin \n",
    "clf=svm.SVC(kernel='linear', C=100)"
   ]
  },
  {
   "cell_type": "code",
   "execution_count": 406,
   "id": "elect-cooperative",
   "metadata": {},
   "outputs": [
    {
     "data": {
      "text/plain": [
       "SVC(C=100, kernel='linear')"
      ]
     },
     "execution_count": 406,
     "metadata": {},
     "output_type": "execute_result"
    }
   ],
   "source": [
    "# Train the model using the training sets\n",
    "clf.fit(x_train, y_train)"
   ]
  },
  {
   "cell_type": "code",
   "execution_count": 407,
   "id": "brutal-muscle",
   "metadata": {},
   "outputs": [],
   "source": [
    "y_pred=clf.predict(x_test)"
   ]
  },
  {
   "cell_type": "code",
   "execution_count": 409,
   "id": "governing-welcome",
   "metadata": {},
   "outputs": [
    {
     "data": {
      "text/plain": [
       "[1, -1, 1, 1, -1, -1, 1, 1, -1, -1]"
      ]
     },
     "execution_count": 409,
     "metadata": {},
     "output_type": "execute_result"
    }
   ],
   "source": [
    "y_test"
   ]
  },
  {
   "cell_type": "code",
   "execution_count": 411,
   "id": "corrected-scenario",
   "metadata": {},
   "outputs": [
    {
     "data": {
      "text/plain": [
       "array([ 1, -1,  1,  1, -1, -1,  1,  1, -1, -1])"
      ]
     },
     "execution_count": 411,
     "metadata": {},
     "output_type": "execute_result"
    }
   ],
   "source": [
    "y_pred"
   ]
  },
  {
   "cell_type": "markdown",
   "id": "mediterranean-december",
   "metadata": {},
   "source": [
    "## Map the SVM Result"
   ]
  },
  {
   "cell_type": "code",
   "execution_count": 422,
   "id": "military-deficit",
   "metadata": {},
   "outputs": [
    {
     "data": {
      "image/png": "[encoded data removed]",
      "text/plain": [
       "<Figure size 576x432 with 1 Axes>"
      ]
     },
     "metadata": {
      "needs_background": "light"
     },
     "output_type": "display_data"
    }
   ],
   "source": [
    "xx = np.linspace(-0.2, 1.2)\n",
    "yy = a * xx-(clf.intercept_[0]) / w[1]\n",
    "margin = 1 / np.sqrt(np.sum(clf.coef_ ** 2))\n",
    "yy_down = yy-np.sqrt(1 + a ** 2) * margin\n",
    "yy_up = yy + np.sqrt(1 + a ** 2) * margin\n",
    "plt.figure(figsize=(8,6))\n",
    "plt.clf()\n",
    "plt.plot(xx, yy, \"k-\")\n",
    "plt.plot(xx, yy_down, \"k-\")\n",
    "plt.plot(xx, yy_up, \"k-\")\n",
    "plt.scatter(clf.support_vectors_[:, 0], clf.support_vectors_[:, 1], s=80,\n",
    " facecolors=\"none\", zorder=10, edgecolors=\"k\")\n",
    "plt.scatter(x_train[0], x_train[1], c=y_train, zorder=10, cmap=plt.cm.Paired,\n",
    " edgecolors=\"k\")\n",
    "plt.xlabel(\"x1\")\n",
    "plt.ylabel(\"x2\")\n",
    "plt.show()"
   ]
  },
  {
   "cell_type": "markdown",
   "id": "north-celebration",
   "metadata": {},
   "source": [
    "# SVM Result Investigation"
   ]
  },
  {
   "cell_type": "code",
   "execution_count": 257,
   "id": "bizarre-disposal",
   "metadata": {},
   "outputs": [],
   "source": [
    "# SVM image from wikipedia"
   ]
  },
  {
   "cell_type": "markdown",
   "id": "indie-cornwall",
   "metadata": {},
   "source": [
    "<img src=\"1920px-SVM_margin.png\" width=\"608\" height=\"456\" style=\"float:left\"/>"
   ]
  },
  {
   "cell_type": "markdown",
   "id": "unlike-compilation",
   "metadata": {},
   "source": [
    "## coef_"
   ]
  },
  {
   "cell_type": "code",
   "execution_count": 412,
   "id": "related-blast",
   "metadata": {},
   "outputs": [],
   "source": [
    "# w here is the vector w showing in the chart above\n",
    "# a, b are the parameters for hyperlane equation, a is the slope while b is the intercept\n",
    "w=clf.coef_[0]\n",
    "a=-w[0]/w[1]\n",
    "b=(clf.intercept_[0])/w[1]"
   ]
  },
  {
   "cell_type": "code",
   "execution_count": 413,
   "id": "formed-fellow",
   "metadata": {},
   "outputs": [
    {
     "name": "stdout",
     "output_type": "stream",
     "text": [
      "[1.02620138 7.02691006]\n"
     ]
    }
   ],
   "source": [
    "print(w)"
   ]
  },
  {
   "cell_type": "code",
   "execution_count": 414,
   "id": "unexpected-paraguay",
   "metadata": {},
   "outputs": [
    {
     "data": {
      "text/plain": [
       "[<matplotlib.lines.Line2D at 0x228c0301128>]"
      ]
     },
     "execution_count": 414,
     "metadata": {},
     "output_type": "execute_result"
    },
    {
     "data": {
      "image/png": "[encoded data removed]",
      "text/plain": [
       "<Figure size 576x576 with 1 Axes>"
      ]
     },
     "metadata": {
      "needs_background": "light"
     },
     "output_type": "display_data"
    }
   ],
   "source": [
    "# W vector is perpendicular with the hyperlane\n",
    "plt.figure(figsize=(8,8))\n",
    "plt.xlim(-0.2, 1.2)\n",
    "plt.ylim(-0.2, 1.2)\n",
    "plt.gca().set_aspect('equal', adjustable='box')\n",
    "# ax-b is the hyperlane equation, so if we plot it using x_train data point, it would be perpedicular with w vector\n",
    "plt.scatter(x_train[0], a*x_train[0]-b)\n",
    "plt.plot([0,w[0]], [0,w[1]])"
   ]
  },
  {
   "cell_type": "code",
   "execution_count": 415,
   "id": "revised-template",
   "metadata": {},
   "outputs": [
    {
     "name": "stdout",
     "output_type": "stream",
     "text": [
      "7.10144733820889\n",
      "0.2816327298857975\n"
     ]
    }
   ],
   "source": [
    "# w is the vector that control the direction of classification hyperlane and the width of margin\n",
    "# w is the coordinates so maginitude of w, i.e ||w|| would be sqrt(x^2+y^2) \n",
    "w_magnitude=np.sqrt(np.sum(clf.coef_ ** 2))\n",
    "print(w_magnitude)\n",
    "# margin would be 2/||w||\n",
    "margin=2/w_magnitude\n",
    "print(margin)"
   ]
  },
  {
   "cell_type": "code",
   "execution_count": 425,
   "id": "filled-voluntary",
   "metadata": {},
   "outputs": [],
   "source": [
    "# Previously we have proved from the formula that the magnitude of vector w will determine the margin\n",
    "# Now let's have a look of it visually\n",
    "# If I inflate w magnititude through multiplying the vector by 2, let's see how the classification boundary will change\n",
    "w2=w*2\n",
    "# at the same time, the intercept should multiply 2 too"
   ]
  },
  {
   "cell_type": "code",
   "execution_count": 437,
   "id": "rocky-amsterdam",
   "metadata": {},
   "outputs": [
    {
     "name": "stdout",
     "output_type": "stream",
     "text": [
      "-0.14603878129275638\n",
      "-0.14603878129275638\n",
      "-0.3887992292266996\n",
      "-0.3887992292266996\n"
     ]
    }
   ],
   "source": [
    "# As you can see a won't change which mean the classification boundary shape won't change\n",
    "# b won't change mean the classification boundary position won't change\n",
    "print(a)\n",
    "a2=-w[0]/w[1]\n",
    "print(a2)\n",
    "print(b)\n",
    "b2=(clf.intercept_[0]*2)/w2[1]\n",
    "print(b2)"
   ]
  },
  {
   "cell_type": "code",
   "execution_count": 436,
   "id": "fifth-burton",
   "metadata": {},
   "outputs": [
    {
     "data": {
      "image/png": "[encoded data removed]",
      "text/plain": [
       "<Figure size 576x432 with 1 Axes>"
      ]
     },
     "metadata": {
      "needs_background": "light"
     },
     "output_type": "display_data"
    }
   ],
   "source": [
    "# Then we could see, change the magnitude of w wont't change classification boundary, but it would change the margin\n",
    "xx = np.linspace(-0.2, 1.2)\n",
    "yy = a * xx-(clf.intercept_[0]) / w[1]\n",
    "yy2= a2 * xx-(clf.intercept_[0]*2) / w2[1]\n",
    "margin = 1 / np.sqrt(np.sum(clf.coef_ ** 2))\n",
    "margin2 = 1 / np.sqrt(np.sum(w2 ** 2))\n",
    "yy_down = yy-np.sqrt(1 + a ** 2) * margin\n",
    "yy_up = yy + np.sqrt(1 + a ** 2) * margin\n",
    "yy_down2 = yy2-np.sqrt(1 + a2 ** 2) * margin2\n",
    "yy_up2 = yy2 + np.sqrt(1 + a2 ** 2) * margin2\n",
    "plt.figure(figsize=(8,6))\n",
    "plt.clf()\n",
    "plt.plot(xx, yy, \"k-\")\n",
    "plt.plot(xx, yy_down, \"k-\")\n",
    "plt.plot(xx, yy_up, \"k-\")\n",
    "plt.plot(xx, yy2, \"k-\", c='red')\n",
    "plt.plot(xx, yy_down2, \"k-\", c='red')\n",
    "plt.plot(xx, yy_up2, \"k-\", c='red')\n",
    "plt.show()"
   ]
  },
  {
   "cell_type": "markdown",
   "id": "alternative-exhibit",
   "metadata": {},
   "source": [
    "## support_vectors_"
   ]
  },
  {
   "cell_type": "code",
   "execution_count": 423,
   "id": "enhanced-kentucky",
   "metadata": {},
   "outputs": [
    {
     "name": "stdout",
     "output_type": "stream",
     "text": [
      "[[0.18518519 0.2195122 ]\n",
      " [0.51851852 0.17073171]\n",
      " [0.2962963  0.48780488]]\n"
     ]
    }
   ],
   "source": [
    "# For the support vector machine model, the points with different classification but close to each other has big impact on \n",
    "# decisding classification boundary. These observations were called support vectors\n",
    "# In sklearn SVM model, you could call support_vectors_ function to get these points\n",
    "print(clf.support_vectors_)"
   ]
  },
  {
   "cell_type": "code",
   "execution_count": 424,
   "id": "heavy-authorization",
   "metadata": {},
   "outputs": [
    {
     "data": {
      "image/png": "[encoded data removed]",
      "text/plain": [
       "<Figure size 576x432 with 1 Axes>"
      ]
     },
     "metadata": {
      "needs_background": "light"
     },
     "output_type": "display_data"
    }
   ],
   "source": [
    "# If we map them, you could see they are the points that fall into the 2 hyperlane\n",
    "xx = np.linspace(-0.2, 1.2)\n",
    "yy = a * xx-(clf.intercept_[0]) / w[1]\n",
    "margin = 1 / np.sqrt(np.sum(clf.coef_ ** 2))\n",
    "yy_down = yy-np.sqrt(1 + a ** 2) * margin\n",
    "yy_up = yy + np.sqrt(1 + a ** 2) * margin\n",
    "plt.figure(figsize=(8,6))\n",
    "plt.clf()\n",
    "plt.plot(xx, yy, \"k-\")\n",
    "plt.plot(xx, yy_down, \"k-\")\n",
    "plt.plot(xx, yy_up, \"k-\")\n",
    "plt.scatter(clf.support_vectors_[:, 0], clf.support_vectors_[:, 1], s=80,\n",
    " facecolors=\"none\", zorder=10, edgecolors=\"k\")\n",
    "plt.xlabel(\"x1\")\n",
    "plt.ylabel(\"x2\")\n",
    "plt.show()"
   ]
  },
  {
   "cell_type": "markdown",
   "id": "surprised-chrome",
   "metadata": {},
   "source": [
    "## support_"
   ]
  },
  {
   "cell_type": "code",
   "execution_count": 446,
   "id": "flexible-aruba",
   "metadata": {},
   "outputs": [
    {
     "data": {
      "text/plain": [
       "array([[0.18518519, 0.2195122 ],\n",
       "       [0.51851852, 0.17073171],\n",
       "       [0.2962963 , 0.48780488]])"
      ]
     },
     "execution_count": 446,
     "metadata": {},
     "output_type": "execute_result"
    }
   ],
   "source": [
    "# support_ attributes will return the index of these support vector observations\n",
    "np.array(x_train)[clf.support_]"
   ]
  },
  {
   "cell_type": "markdown",
   "id": "compressed-laugh",
   "metadata": {},
   "source": [
    "## n_support_"
   ]
  },
  {
   "cell_type": "code",
   "execution_count": 448,
   "id": "constitutional-packaging",
   "metadata": {},
   "outputs": [
    {
     "data": {
      "text/plain": [
       "array([2, 1])"
      ]
     },
     "execution_count": 448,
     "metadata": {},
     "output_type": "execute_result"
    }
   ],
   "source": [
    "# n_support_ would get you numbers of the support vectors in each class\n",
    "# which we could see from the chart that one class has 2 support vectors and another has 1\n",
    "clf.n_support_"
   ]
  },
  {
   "cell_type": "markdown",
   "id": "national-nowhere",
   "metadata": {},
   "source": [
    "## decision_function"
   ]
  },
  {
   "cell_type": "code",
   "execution_count": 416,
   "id": "selective-legend",
   "metadata": {},
   "outputs": [],
   "source": [
    "XT=np.array(x_train).T"
   ]
  },
  {
   "cell_type": "code",
   "execution_count": 417,
   "id": "weighted-consequence",
   "metadata": {},
   "outputs": [
    {
     "data": {
      "text/plain": [
       "array([[-2.17988561, -1.5710573 ,  3.85528567, -1.45703492,  3.72190507,\n",
       "        -1.64707221,  4.0073155 ,  4.12204685, -1.93248264,  4.2934349 ,\n",
       "         4.06468117, -1.70443789, -1.45703492, -0.99952747, -2.06586323,\n",
       "        -1.95184086,  3.11307676,  2.7322932 ,  1.47592015, -2.17988561,\n",
       "        -1.93248264, -1.81846026, -1.11425882,  1.43791269,  2.08474846,\n",
       "        -1.4376767 , -1.34301254,  4.38880803,  4.73087516,  2.8656738 ,\n",
       "         3.05571109,  3.64589016, -1.64707221,  4.52147965, -1.81916924,\n",
       "        -1.5710573 , -1.59041551, -1.76180356, -1.53304984,  3.68460659,\n",
       "        -1.00023644,  4.63550203,  4.36944982,  3.0750693 , -2.61803484,\n",
       "         2.5228977 , -1.51369162, -1.49504238, -1.7804528 , -1.4376767 ,\n",
       "         0.99976346, -1.81846026,  4.71222592,  2.21812905,  3.76062151,\n",
       "        -1.74244535,  4.27407668,  4.94097964,  3.09371855,  2.58026337,\n",
       "        -1.53304984,  4.2934349 , -1.11425882, -1.39966925,  5.0356438 ,\n",
       "        -2.56066917, -2.00849756, -1.85646772,  3.91265134,  2.97969617,\n",
       "         3.98866626, -2.14187815, -1.79981102, -1.76109459, -1.4376767 ,\n",
       "         4.94027067, -1.74244535, -1.60906475, -1.85646772,  3.28446481,\n",
       "        -1.51369162,  3.551226  ,  4.31208414, -1.2282812 ,  2.8656738 ,\n",
       "         3.91265134,  3.15108422,  1.81869625,  3.79862896,  3.36047973]])"
      ]
     },
     "execution_count": 417,
     "metadata": {},
     "output_type": "execute_result"
    }
   ],
   "source": [
    "# w*x-b is the distance from everypoint to the hyperlanes\n",
    "# it is the decision_function result\n",
    "# When the result>=1 it would be predicted as one class, and result<=-1 would be another class\n",
    "clf.coef_.dot(XT)+clf.intercept_[0]"
   ]
  },
  {
   "cell_type": "code",
   "execution_count": 418,
   "id": "organizational-tract",
   "metadata": {},
   "outputs": [
    {
     "data": {
      "text/plain": [
       "array([-2.17988561, -1.5710573 ,  3.85528567, -1.45703492,  3.72190507,\n",
       "       -1.64707221,  4.0073155 ,  4.12204685, -1.93248264,  4.2934349 ,\n",
       "        4.06468117, -1.70443789, -1.45703492, -0.99952747, -2.06586323,\n",
       "       -1.95184086,  3.11307676,  2.7322932 ,  1.47592015, -2.17988561,\n",
       "       -1.93248264, -1.81846026, -1.11425882,  1.43791269,  2.08474846,\n",
       "       -1.4376767 , -1.34301254,  4.38880803,  4.73087516,  2.8656738 ,\n",
       "        3.05571109,  3.64589016, -1.64707221,  4.52147965, -1.81916924,\n",
       "       -1.5710573 , -1.59041551, -1.76180356, -1.53304984,  3.68460659,\n",
       "       -1.00023644,  4.63550203,  4.36944982,  3.0750693 , -2.61803484,\n",
       "        2.5228977 , -1.51369162, -1.49504238, -1.7804528 , -1.4376767 ,\n",
       "        0.99976346, -1.81846026,  4.71222592,  2.21812905,  3.76062151,\n",
       "       -1.74244535,  4.27407668,  4.94097964,  3.09371855,  2.58026337,\n",
       "       -1.53304984,  4.2934349 , -1.11425882, -1.39966925,  5.0356438 ,\n",
       "       -2.56066917, -2.00849756, -1.85646772,  3.91265134,  2.97969617,\n",
       "        3.98866626, -2.14187815, -1.79981102, -1.76109459, -1.4376767 ,\n",
       "        4.94027067, -1.74244535, -1.60906475, -1.85646772,  3.28446481,\n",
       "       -1.51369162,  3.551226  ,  4.31208414, -1.2282812 ,  2.8656738 ,\n",
       "        3.91265134,  3.15108422,  1.81869625,  3.79862896,  3.36047973])"
      ]
     },
     "execution_count": 418,
     "metadata": {},
     "output_type": "execute_result"
    }
   ],
   "source": [
    "clf.decision_function(x_train)"
   ]
  },
  {
   "cell_type": "code",
   "execution_count": 419,
   "id": "grave-rolling",
   "metadata": {},
   "outputs": [
    {
     "data": {
      "text/plain": [
       "<matplotlib.collections.PathCollection at 0x228c2c95080>"
      ]
     },
     "execution_count": 419,
     "metadata": {},
     "output_type": "execute_result"
    },
    {
     "data": {
      "image/png": "[encoded data removed]",
      "text/plain": [
       "<Figure size 576x432 with 1 Axes>"
      ]
     },
     "metadata": {
      "needs_background": "light"
     },
     "output_type": "display_data"
    }
   ],
   "source": [
    "one_case=np.array(x_train)[0]\n",
    "# Map it to decision boundary\n",
    "xx = np.linspace(-0.2, 1.2)\n",
    "yy = a * xx-(clf.intercept_[0]) / w[1]\n",
    "margin = 1 / np.sqrt(np.sum(clf.coef_ ** 2)) # acutually is it half margin lol\n",
    "yy_down = yy-np.sqrt(1 + a ** 2) * margin\n",
    "yy_up = yy + np.sqrt(1 + a ** 2) * margin\n",
    "plt.figure(figsize=(8,6))\n",
    "plt.clf()\n",
    "plt.plot(xx, yy, \"k-\")\n",
    "plt.plot(xx, yy_down, \"k-\")\n",
    "plt.plot(xx, yy_up, \"k-\")\n",
    "plt.scatter(one_case[0], one_case[1])"
   ]
  },
  {
   "cell_type": "code",
   "execution_count": null,
   "id": "indoor-drink",
   "metadata": {},
   "outputs": [],
   "source": [
    "# for a hyperlane with equation wx+b, b actually is the scaler.\n",
    "# Decision function is a rescaled measure (rescale by scaler b) of how far the a point to the hyperlane \n",
    "# If we would like to calculate the absolute distance from a case to the hyperlane, we would need to scale it back\n",
    "# Therefore, D(x0)=|f(x0)| / sqrt(w⋅w). f(x0) is the result get from decision function\n",
    "# Let calculate it"
   ]
  },
  {
   "cell_type": "code",
   "execution_count": 456,
   "id": "every-penguin",
   "metadata": {},
   "outputs": [
    {
     "data": {
      "text/plain": [
       "0.3069635671038061"
      ]
     },
     "execution_count": 456,
     "metadata": {},
     "output_type": "execute_result"
    }
   ],
   "source": [
    "abs(clf.decision_function(x_train)[0])/math.sqrt(w.dot(w.T))"
   ]
  },
  {
   "cell_type": "code",
   "execution_count": 457,
   "id": "crazy-trout",
   "metadata": {},
   "outputs": [],
   "source": [
    "# Let calculate the distance from a point to a line to verify"
   ]
  },
  {
   "cell_type": "code",
   "execution_count": 458,
   "id": "generous-dealing",
   "metadata": {},
   "outputs": [],
   "source": [
    "def shortest_distance(x1, y1, a, b, c): \n",
    "    d = abs((a * x1 + b * y1 + c)) / (math.sqrt(a * a + b * b))\n",
    "    print(d)"
   ]
  },
  {
   "cell_type": "code",
   "execution_count": 459,
   "id": "steady-headset",
   "metadata": {},
   "outputs": [
    {
     "name": "stdout",
     "output_type": "stream",
     "text": [
      "0.30696356710380623\n"
     ]
    }
   ],
   "source": [
    "shortest_distance(one_case[0], one_case[1], a, -1, -b)"
   ]
  }
 ],
 "metadata": {
  "kernelspec": {
   "display_name": "Python 3",
   "language": "python",
   "name": "python3"
  },
  "language_info": {
   "codemirror_mode": {
    "name": "ipython",
    "version": 3
   },
   "file_extension": ".py",
   "mimetype": "text/x-python",
   "name": "python",
   "nbconvert_exporter": "python",
   "pygments_lexer": "ipython3",
   "version": "3.7.3"
  }
 },
 "nbformat": 4,
 "nbformat_minor": 5
}
