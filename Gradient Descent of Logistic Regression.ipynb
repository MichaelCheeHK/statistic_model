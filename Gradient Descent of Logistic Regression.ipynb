{
 "cells": [
  {
   "cell_type": "code",
   "execution_count": 52,
   "id": "written-hepatitis",
   "metadata": {},
   "outputs": [
    {
     "data": {
      "text/html": [
       "<div>\n",
       "<style scoped>\n",
       "    .dataframe tbody tr th:only-of-type {\n",
       "        vertical-align: middle;\n",
       "    }\n",
       "\n",
       "    .dataframe tbody tr th {\n",
       "        vertical-align: top;\n",
       "    }\n",
       "\n",
       "    .dataframe thead th {\n",
       "        text-align: right;\n",
       "    }\n",
       "</style>\n",
       "<table border=\"1\" class=\"dataframe\">\n",
       "  <thead>\n",
       "    <tr style=\"text-align: right;\">\n",
       "      <th></th>\n",
       "      <th>Survived</th>\n",
       "      <th>Pclass</th>\n",
       "      <th>Sex</th>\n",
       "      <th>Age</th>\n",
       "      <th>Siblings/Spouses Aboard</th>\n",
       "      <th>Parents/Children Aboard</th>\n",
       "      <th>Fare</th>\n",
       "    </tr>\n",
       "  </thead>\n",
       "  <tbody>\n",
       "    <tr>\n",
       "      <th>0</th>\n",
       "      <td>0</td>\n",
       "      <td>3</td>\n",
       "      <td>male</td>\n",
       "      <td>22.0</td>\n",
       "      <td>1</td>\n",
       "      <td>0</td>\n",
       "      <td>7.2500</td>\n",
       "    </tr>\n",
       "    <tr>\n",
       "      <th>1</th>\n",
       "      <td>1</td>\n",
       "      <td>1</td>\n",
       "      <td>female</td>\n",
       "      <td>38.0</td>\n",
       "      <td>1</td>\n",
       "      <td>0</td>\n",
       "      <td>71.2833</td>\n",
       "    </tr>\n",
       "    <tr>\n",
       "      <th>2</th>\n",
       "      <td>1</td>\n",
       "      <td>3</td>\n",
       "      <td>female</td>\n",
       "      <td>26.0</td>\n",
       "      <td>0</td>\n",
       "      <td>0</td>\n",
       "      <td>7.9250</td>\n",
       "    </tr>\n",
       "    <tr>\n",
       "      <th>3</th>\n",
       "      <td>1</td>\n",
       "      <td>1</td>\n",
       "      <td>female</td>\n",
       "      <td>35.0</td>\n",
       "      <td>1</td>\n",
       "      <td>0</td>\n",
       "      <td>53.1000</td>\n",
       "    </tr>\n",
       "    <tr>\n",
       "      <th>4</th>\n",
       "      <td>0</td>\n",
       "      <td>3</td>\n",
       "      <td>male</td>\n",
       "      <td>35.0</td>\n",
       "      <td>0</td>\n",
       "      <td>0</td>\n",
       "      <td>8.0500</td>\n",
       "    </tr>\n",
       "  </tbody>\n",
       "</table>\n",
       "</div>"
      ],
      "text/plain": [
       "   Survived  Pclass     Sex   Age  Siblings/Spouses Aboard  \\\n",
       "0         0       3    male  22.0                        1   \n",
       "1         1       1  female  38.0                        1   \n",
       "2         1       3  female  26.0                        0   \n",
       "3         1       1  female  35.0                        1   \n",
       "4         0       3    male  35.0                        0   \n",
       "\n",
       "   Parents/Children Aboard     Fare  \n",
       "0                        0   7.2500  \n",
       "1                        0  71.2833  \n",
       "2                        0   7.9250  \n",
       "3                        0  53.1000  \n",
       "4                        0   8.0500  "
      ]
     },
     "execution_count": 52,
     "metadata": {},
     "output_type": "execute_result"
    }
   ],
   "source": [
    "# Read data\n",
    "import pandas as pd\n",
    "df=pd.read_csv('titanic.csv')\n",
    "\n",
    "# Drop the unused variables\n",
    "df=df.drop(['Name'], axis=1)\n",
    "\n",
    "df.head()"
   ]
  },
  {
   "cell_type": "code",
   "execution_count": 53,
   "id": "arctic-position",
   "metadata": {},
   "outputs": [],
   "source": [
    "from patsy import dmatrices\n",
    "# Create matrices\n",
    "y, X= dmatrices('Survived ~ Age + Fare + Q(\"Siblings/Spouses Aboard\") + Q(\"Parents/Children Aboard\") + C(Pclass) + C(Sex)', df, return_type = 'dataframe')"
   ]
  },
  {
   "cell_type": "code",
   "execution_count": 203,
   "id": "fatal-hierarchy",
   "metadata": {},
   "outputs": [],
   "source": [
    "from sklearn.model_selection import train_test_split\n",
    "X_train, X_test, y_train, y_test = train_test_split(X.drop(['Intercept'], axis=1), y, test_size=0.3)"
   ]
  },
  {
   "cell_type": "code",
   "execution_count": 204,
   "id": "important-trauma",
   "metadata": {},
   "outputs": [
    {
     "data": {
      "text/html": [
       "<div>\n",
       "<style scoped>\n",
       "    .dataframe tbody tr th:only-of-type {\n",
       "        vertical-align: middle;\n",
       "    }\n",
       "\n",
       "    .dataframe tbody tr th {\n",
       "        vertical-align: top;\n",
       "    }\n",
       "\n",
       "    .dataframe thead th {\n",
       "        text-align: right;\n",
       "    }\n",
       "</style>\n",
       "<table border=\"1\" class=\"dataframe\">\n",
       "  <thead>\n",
       "    <tr style=\"text-align: right;\">\n",
       "      <th></th>\n",
       "      <th>C(Pclass)[T.2]</th>\n",
       "      <th>C(Pclass)[T.3]</th>\n",
       "      <th>C(Sex)[T.male]</th>\n",
       "      <th>Age</th>\n",
       "      <th>Fare</th>\n",
       "      <th>Q(\"Siblings/Spouses Aboard\")</th>\n",
       "      <th>Q(\"Parents/Children Aboard\")</th>\n",
       "    </tr>\n",
       "  </thead>\n",
       "  <tbody>\n",
       "    <tr>\n",
       "      <th>149</th>\n",
       "      <td>1.0</td>\n",
       "      <td>0.0</td>\n",
       "      <td>1.0</td>\n",
       "      <td>51.0</td>\n",
       "      <td>12.5250</td>\n",
       "      <td>0.0</td>\n",
       "      <td>0.0</td>\n",
       "    </tr>\n",
       "    <tr>\n",
       "      <th>535</th>\n",
       "      <td>0.0</td>\n",
       "      <td>1.0</td>\n",
       "      <td>1.0</td>\n",
       "      <td>69.0</td>\n",
       "      <td>14.5000</td>\n",
       "      <td>0.0</td>\n",
       "      <td>0.0</td>\n",
       "    </tr>\n",
       "    <tr>\n",
       "      <th>273</th>\n",
       "      <td>0.0</td>\n",
       "      <td>0.0</td>\n",
       "      <td>0.0</td>\n",
       "      <td>63.0</td>\n",
       "      <td>77.9583</td>\n",
       "      <td>1.0</td>\n",
       "      <td>0.0</td>\n",
       "    </tr>\n",
       "    <tr>\n",
       "      <th>380</th>\n",
       "      <td>0.0</td>\n",
       "      <td>1.0</td>\n",
       "      <td>1.0</td>\n",
       "      <td>32.0</td>\n",
       "      <td>7.9250</td>\n",
       "      <td>0.0</td>\n",
       "      <td>0.0</td>\n",
       "    </tr>\n",
       "    <tr>\n",
       "      <th>529</th>\n",
       "      <td>0.0</td>\n",
       "      <td>1.0</td>\n",
       "      <td>1.0</td>\n",
       "      <td>17.0</td>\n",
       "      <td>7.2292</td>\n",
       "      <td>1.0</td>\n",
       "      <td>1.0</td>\n",
       "    </tr>\n",
       "  </tbody>\n",
       "</table>\n",
       "</div>"
      ],
      "text/plain": [
       "     C(Pclass)[T.2]  C(Pclass)[T.3]  C(Sex)[T.male]   Age     Fare  \\\n",
       "149             1.0             0.0             1.0  51.0  12.5250   \n",
       "535             0.0             1.0             1.0  69.0  14.5000   \n",
       "273             0.0             0.0             0.0  63.0  77.9583   \n",
       "380             0.0             1.0             1.0  32.0   7.9250   \n",
       "529             0.0             1.0             1.0  17.0   7.2292   \n",
       "\n",
       "     Q(\"Siblings/Spouses Aboard\")  Q(\"Parents/Children Aboard\")  \n",
       "149                           0.0                           0.0  \n",
       "535                           0.0                           0.0  \n",
       "273                           1.0                           0.0  \n",
       "380                           0.0                           0.0  \n",
       "529                           1.0                           1.0  "
      ]
     },
     "execution_count": 204,
     "metadata": {},
     "output_type": "execute_result"
    }
   ],
   "source": [
    "X_train.head()"
   ]
  },
  {
   "cell_type": "markdown",
   "id": "constant-software",
   "metadata": {},
   "source": [
    "# Gradient Descent Method"
   ]
  },
  {
   "cell_type": "markdown",
   "id": "hydraulic-minnesota",
   "metadata": {},
   "source": [
    "### 1. Transform the data"
   ]
  },
  {
   "cell_type": "code",
   "execution_count": 208,
   "id": "familiar-excess",
   "metadata": {},
   "outputs": [
    {
     "name": "stderr",
     "output_type": "stream",
     "text": [
      "C:\\Users\\xue.ju\\AppData\\Local\\Continuum\\anaconda\\lib\\site-packages\\ipykernel_launcher.py:3: FutureWarning: Support for multi-dimensional indexing (e.g. `obj[:, None]`) is deprecated and will be removed in a future version.  Convert to a numpy array before indexing instead.\n",
      "  This is separate from the ipykernel package so we can avoid doing imports until\n"
     ]
    }
   ],
   "source": [
    "import numpy as np\n",
    "X_train = np.c_[np.ones((X_train.shape[0], 1)), X_train]\n",
    "y_train = y_train['Survived'][:, np.newaxis]\n",
    "theta_train = np.zeros((X_train.shape[1], 1))"
   ]
  },
  {
   "cell_type": "markdown",
   "id": "eastern-liquid",
   "metadata": {},
   "source": [
    "### 2. Define Functions"
   ]
  },
  {
   "cell_type": "code",
   "execution_count": 213,
   "id": "manual-heavy",
   "metadata": {},
   "outputs": [],
   "source": [
    "class LogitGradientDescent():\n",
    "    def __init__(self):\n",
    "        self.theta0=theta_train\n",
    "    \n",
    "    def sigmoid(X):\n",
    "    # Activation function used to map any real value between 0 and 1\n",
    "        return 1 / (1 + np.exp(-X))\n",
    "    \n",
    "    def net_input(theta, X):\n",
    "        # Computes the weighted sum of inputs\n",
    "        return np.dot(X, theta)\n",
    "\n",
    "    def probability(theta, X):\n",
    "        # Returns the probability after passing through sigmoid\n",
    "        return sigmoid(net_input(theta, X))\n",
    "    \n",
    "    def cost_function(theta, X, y):\n",
    "        # Computes the cost function for all the training samples\n",
    "        m = X.shape[0]\n",
    "        total_cost = -(1 / m) * np.sum(\n",
    "            y * np.log(probability(theta, X)) + (1 - y) * np.log(\n",
    "                1 - probability(theta, X)))\n",
    "        return total_cost\n",
    "    \n",
    "    def gradient(theta, X, y):\n",
    "        # Computes the gradient of the cost function at the point theta\n",
    "        m = X.shape[0]\n",
    "        return (1 / m) * np.dot(X.T, sigmoid(net_input(theta,X)) - y)\n",
    "    \n",
    "    def fit(self, X, y):\n",
    "        opt_weights = fmin_tnc(func=cost_function, x0=self.theta0,\n",
    "                      fprime=gradient, args=(X, y.flatten()))\n",
    "        return opt_weights[0]"
   ]
  },
  {
   "cell_type": "markdown",
   "id": "stretch-possession",
   "metadata": {},
   "source": [
    "### 3. Fit the model"
   ]
  },
  {
   "cell_type": "code",
   "execution_count": 214,
   "id": "activated-shoot",
   "metadata": {},
   "outputs": [],
   "source": [
    "model=LogitGradientDescent()\n",
    "parametors=model.fit(X_train, y_train)\n",
    "parametors_matrix=np.asmatrix(parametors).T"
   ]
  },
  {
   "cell_type": "markdown",
   "id": "polar-atlantic",
   "metadata": {},
   "source": [
    "### 4. Investigate Predict Result"
   ]
  },
  {
   "cell_type": "code",
   "execution_count": 193,
   "id": "plain-regard",
   "metadata": {},
   "outputs": [],
   "source": [
    "predict_input=net_input(parametors_matrix, X_train)\n",
    "prediction=sigmoid(predict_input)"
   ]
  },
  {
   "cell_type": "code",
   "execution_count": 194,
   "id": "efficient-board",
   "metadata": {},
   "outputs": [],
   "source": [
    "threshold=0.5\n",
    "predicted=[1 if i>=threshold else 0 for i in prediction]"
   ]
  },
  {
   "cell_type": "code",
   "execution_count": 195,
   "id": "partial-begin",
   "metadata": {},
   "outputs": [
    {
     "data": {
      "text/plain": [
       "Text(0.5, 257.44, 'Predicted label')"
      ]
     },
     "execution_count": 195,
     "metadata": {},
     "output_type": "execute_result"
    },
    {
     "data": {
      "image/png": "[encoded data removed]",
      "text/plain": [
       "<Figure size 432x288 with 2 Axes>"
      ]
     },
     "metadata": {},
     "output_type": "display_data"
    }
   ],
   "source": [
    "# Use the sklearn confusion matrix function\n",
    "from sklearn.metrics import confusion_matrix\n",
    "confusion_matrix = confusion_matrix(y_train, predicted)\n",
    "\n",
    "# Plot confusion matrix\n",
    "from matplotlib import pyplot as plt\n",
    "import seaborn as sns\n",
    "sns.set(style=\"white\")\n",
    "sns.set(style=\"whitegrid\", color_codes=True)\n",
    "\n",
    "fig, ax = plt.subplots()\n",
    "\n",
    "class_names=[0,1]\n",
    "tick_marks = np.arange(len(class_names))\n",
    "plt.xticks(tick_marks, class_names)\n",
    "plt.yticks(tick_marks, class_names)\n",
    "\n",
    "sns.heatmap(pd.DataFrame(confusion_matrix), annot=True, cmap=\"YlGnBu\" ,fmt='g')\n",
    "ax.xaxis.set_label_position(\"top\")\n",
    "plt.tight_layout()\n",
    "plt.title('Confusion matrix', y=1.1)\n",
    "plt.ylabel('Actual label')\n",
    "plt.xlabel('Predicted label')"
   ]
  },
  {
   "cell_type": "markdown",
   "id": "concerned-birth",
   "metadata": {},
   "source": [
    "### 5. Use test dataset"
   ]
  },
  {
   "cell_type": "code",
   "execution_count": 205,
   "id": "outstanding-coverage",
   "metadata": {},
   "outputs": [
    {
     "name": "stderr",
     "output_type": "stream",
     "text": [
      "C:\\Users\\xue.ju\\AppData\\Local\\Continuum\\anaconda\\lib\\site-packages\\ipykernel_launcher.py:2: FutureWarning: Support for multi-dimensional indexing (e.g. `obj[:, None]`) is deprecated and will be removed in a future version.  Convert to a numpy array before indexing instead.\n",
      "  \n"
     ]
    }
   ],
   "source": [
    "X_test = np.c_[np.ones((X_test.shape[0], 1)), X_test]\n",
    "y_test = y_test['Survived'][:, np.newaxis]\n",
    "\n",
    "predict_input_test=net_input(parametors_matrix, X_test)\n",
    "prediction_test=sigmoid(predict_input_test)\n",
    "threshold=0.5\n",
    "predicted_test=[1 if i>=threshold else 0 for i in prediction_test]"
   ]
  },
  {
   "cell_type": "code",
   "execution_count": 206,
   "id": "opponent-authority",
   "metadata": {},
   "outputs": [
    {
     "data": {
      "text/plain": [
       "Text(0.5, 257.44, 'Predicted label')"
      ]
     },
     "execution_count": 206,
     "metadata": {},
     "output_type": "execute_result"
    },
    {
     "data": {
      "image/png": "[encoded data removed]",
      "text/plain": [
       "<Figure size 432x288 with 2 Axes>"
      ]
     },
     "metadata": {},
     "output_type": "display_data"
    }
   ],
   "source": [
    "# Use the sklearn confusion matrix function\n",
    "from sklearn.metrics import confusion_matrix\n",
    "confusion_matrix_test = confusion_matrix(y_test, predicted_test)\n",
    "\n",
    "# Plot confusion matrix\n",
    "from matplotlib import pyplot as plt\n",
    "import seaborn as sns\n",
    "sns.set(style=\"white\")\n",
    "sns.set(style=\"whitegrid\", color_codes=True)\n",
    "\n",
    "fig, ax = plt.subplots()\n",
    "\n",
    "class_names=[0,1]\n",
    "tick_marks = np.arange(len(class_names))\n",
    "plt.xticks(tick_marks, class_names)\n",
    "plt.yticks(tick_marks, class_names)\n",
    "\n",
    "sns.heatmap(pd.DataFrame(confusion_matrix_test), annot=True, cmap=\"YlGnBu\" ,fmt='g')\n",
    "ax.xaxis.set_label_position(\"top\")\n",
    "plt.tight_layout()\n",
    "plt.title('Confusion matrix', y=1.1)\n",
    "plt.ylabel('Actual label')\n",
    "plt.xlabel('Predicted label')"
   ]
  },
  {
   "cell_type": "code",
   "execution_count": 207,
   "id": "funky-ozone",
   "metadata": {},
   "outputs": [
    {
     "name": "stdout",
     "output_type": "stream",
     "text": [
      "Accuracy: 0.82\n",
      "Error rate: 0.18\n",
      "Precision: 0.74\n",
      "Recall: 0.78\n",
      "f1_score: 0.76\n"
     ]
    }
   ],
   "source": [
    "# Use sklearn to get F1 score\n",
    "from sklearn.metrics import accuracy_score\n",
    "from sklearn.metrics import precision_score\n",
    "from sklearn.metrics import recall_score\n",
    "from sklearn.metrics import f1_score\n",
    "from sklearn.metrics import confusion_matrix\n",
    "from sklearn.metrics import roc_auc_score\n",
    "from sklearn.metrics import roc_curve\n",
    "from sklearn.model_selection import cross_val_score\n",
    "print('Accuracy: {:.2f}'.format(accuracy_score(y_test, predicted_test)))\n",
    "print('Error rate: {:.2f}'.format(1 - accuracy_score(y_test, predicted_test)))\n",
    "print('Precision: {:.2f}'.format(precision_score(y_test, predicted_test)))\n",
    "print('Recall: {:.2f}'.format(recall_score(y_test, predicted_test)))\n",
    "print('f1_score: {:.2f}'.format(f1_score(y_test, predicted_test)))"
   ]
  }
 ],
 "metadata": {
  "kernelspec": {
   "display_name": "Python 3",
   "language": "python",
   "name": "python3"
  },
  "language_info": {
   "codemirror_mode": {
    "name": "ipython",
    "version": 3
   },
   "file_extension": ".py",
   "mimetype": "text/x-python",
   "name": "python",
   "nbconvert_exporter": "python",
   "pygments_lexer": "ipython3",
   "version": "3.7.3"
  }
 },
 "nbformat": 4,
 "nbformat_minor": 5
}
