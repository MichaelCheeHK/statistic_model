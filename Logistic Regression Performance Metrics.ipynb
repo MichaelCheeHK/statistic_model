{
 "cells": [
  {
   "cell_type": "code",
   "execution_count": 1,
   "metadata": {},
   "outputs": [
    {
     "data": {
      "text/html": [
       "<div>\n",
       "<style scoped>\n",
       "    .dataframe tbody tr th:only-of-type {\n",
       "        vertical-align: middle;\n",
       "    }\n",
       "\n",
       "    .dataframe tbody tr th {\n",
       "        vertical-align: top;\n",
       "    }\n",
       "\n",
       "    .dataframe thead th {\n",
       "        text-align: right;\n",
       "    }\n",
       "</style>\n",
       "<table border=\"1\" class=\"dataframe\">\n",
       "  <thead>\n",
       "    <tr style=\"text-align: right;\">\n",
       "      <th></th>\n",
       "      <th>Survived</th>\n",
       "      <th>Pclass</th>\n",
       "      <th>Sex</th>\n",
       "      <th>Age</th>\n",
       "      <th>Siblings/Spouses Aboard</th>\n",
       "      <th>Parents/Children Aboard</th>\n",
       "      <th>Fare</th>\n",
       "    </tr>\n",
       "  </thead>\n",
       "  <tbody>\n",
       "    <tr>\n",
       "      <th>0</th>\n",
       "      <td>0</td>\n",
       "      <td>3</td>\n",
       "      <td>male</td>\n",
       "      <td>22.0</td>\n",
       "      <td>1</td>\n",
       "      <td>0</td>\n",
       "      <td>7.2500</td>\n",
       "    </tr>\n",
       "    <tr>\n",
       "      <th>1</th>\n",
       "      <td>1</td>\n",
       "      <td>1</td>\n",
       "      <td>female</td>\n",
       "      <td>38.0</td>\n",
       "      <td>1</td>\n",
       "      <td>0</td>\n",
       "      <td>71.2833</td>\n",
       "    </tr>\n",
       "    <tr>\n",
       "      <th>2</th>\n",
       "      <td>1</td>\n",
       "      <td>3</td>\n",
       "      <td>female</td>\n",
       "      <td>26.0</td>\n",
       "      <td>0</td>\n",
       "      <td>0</td>\n",
       "      <td>7.9250</td>\n",
       "    </tr>\n",
       "    <tr>\n",
       "      <th>3</th>\n",
       "      <td>1</td>\n",
       "      <td>1</td>\n",
       "      <td>female</td>\n",
       "      <td>35.0</td>\n",
       "      <td>1</td>\n",
       "      <td>0</td>\n",
       "      <td>53.1000</td>\n",
       "    </tr>\n",
       "    <tr>\n",
       "      <th>4</th>\n",
       "      <td>0</td>\n",
       "      <td>3</td>\n",
       "      <td>male</td>\n",
       "      <td>35.0</td>\n",
       "      <td>0</td>\n",
       "      <td>0</td>\n",
       "      <td>8.0500</td>\n",
       "    </tr>\n",
       "  </tbody>\n",
       "</table>\n",
       "</div>"
      ],
      "text/plain": [
       "   Survived  Pclass     Sex   Age  Siblings/Spouses Aboard  \\\n",
       "0         0       3    male  22.0                        1   \n",
       "1         1       1  female  38.0                        1   \n",
       "2         1       3  female  26.0                        0   \n",
       "3         1       1  female  35.0                        1   \n",
       "4         0       3    male  35.0                        0   \n",
       "\n",
       "   Parents/Children Aboard     Fare  \n",
       "0                        0   7.2500  \n",
       "1                        0  71.2833  \n",
       "2                        0   7.9250  \n",
       "3                        0  53.1000  \n",
       "4                        0   8.0500  "
      ]
     },
     "execution_count": 1,
     "metadata": {},
     "output_type": "execute_result"
    }
   ],
   "source": [
    "# read data\n",
    "import pandas as pd\n",
    "df=pd.read_csv('titanic.csv')\n",
    "\n",
    "# Drop the unused variables\n",
    "df=df.drop(['Name'], axis=1)\n",
    "\n",
    "df.head()"
   ]
  },
  {
   "cell_type": "markdown",
   "metadata": {},
   "source": [
    "# Fit GLM Model with Logit Link Function"
   ]
  },
  {
   "cell_type": "code",
   "execution_count": 43,
   "metadata": {},
   "outputs": [],
   "source": [
    "from patsy import dmatrices\n",
    "# Create matrices\n",
    "y, X= dmatrices('Survived ~ Age + Fare + Q(\"Siblings/Spouses Aboard\") + Q(\"Parents/Children Aboard\") + C(Pclass) + C(Sex)', df, return_type = 'dataframe')"
   ]
  },
  {
   "cell_type": "code",
   "execution_count": 3,
   "metadata": {},
   "outputs": [
    {
     "data": {
      "text/html": [
       "<div>\n",
       "<style scoped>\n",
       "    .dataframe tbody tr th:only-of-type {\n",
       "        vertical-align: middle;\n",
       "    }\n",
       "\n",
       "    .dataframe tbody tr th {\n",
       "        vertical-align: top;\n",
       "    }\n",
       "\n",
       "    .dataframe thead th {\n",
       "        text-align: right;\n",
       "    }\n",
       "</style>\n",
       "<table border=\"1\" class=\"dataframe\">\n",
       "  <thead>\n",
       "    <tr style=\"text-align: right;\">\n",
       "      <th></th>\n",
       "      <th>Intercept</th>\n",
       "      <th>C(Pclass)[T.2]</th>\n",
       "      <th>C(Pclass)[T.3]</th>\n",
       "      <th>C(Sex)[T.male]</th>\n",
       "      <th>Age</th>\n",
       "      <th>Fare</th>\n",
       "      <th>Q(\"Siblings/Spouses Aboard\")</th>\n",
       "      <th>Q(\"Parents/Children Aboard\")</th>\n",
       "    </tr>\n",
       "  </thead>\n",
       "  <tbody>\n",
       "    <tr>\n",
       "      <th>0</th>\n",
       "      <td>1.0</td>\n",
       "      <td>0.0</td>\n",
       "      <td>1.0</td>\n",
       "      <td>1.0</td>\n",
       "      <td>22.0</td>\n",
       "      <td>7.2500</td>\n",
       "      <td>1.0</td>\n",
       "      <td>0.0</td>\n",
       "    </tr>\n",
       "    <tr>\n",
       "      <th>1</th>\n",
       "      <td>1.0</td>\n",
       "      <td>0.0</td>\n",
       "      <td>0.0</td>\n",
       "      <td>0.0</td>\n",
       "      <td>38.0</td>\n",
       "      <td>71.2833</td>\n",
       "      <td>1.0</td>\n",
       "      <td>0.0</td>\n",
       "    </tr>\n",
       "    <tr>\n",
       "      <th>2</th>\n",
       "      <td>1.0</td>\n",
       "      <td>0.0</td>\n",
       "      <td>1.0</td>\n",
       "      <td>0.0</td>\n",
       "      <td>26.0</td>\n",
       "      <td>7.9250</td>\n",
       "      <td>0.0</td>\n",
       "      <td>0.0</td>\n",
       "    </tr>\n",
       "    <tr>\n",
       "      <th>3</th>\n",
       "      <td>1.0</td>\n",
       "      <td>0.0</td>\n",
       "      <td>0.0</td>\n",
       "      <td>0.0</td>\n",
       "      <td>35.0</td>\n",
       "      <td>53.1000</td>\n",
       "      <td>1.0</td>\n",
       "      <td>0.0</td>\n",
       "    </tr>\n",
       "    <tr>\n",
       "      <th>4</th>\n",
       "      <td>1.0</td>\n",
       "      <td>0.0</td>\n",
       "      <td>1.0</td>\n",
       "      <td>1.0</td>\n",
       "      <td>35.0</td>\n",
       "      <td>8.0500</td>\n",
       "      <td>0.0</td>\n",
       "      <td>0.0</td>\n",
       "    </tr>\n",
       "    <tr>\n",
       "      <th>...</th>\n",
       "      <td>...</td>\n",
       "      <td>...</td>\n",
       "      <td>...</td>\n",
       "      <td>...</td>\n",
       "      <td>...</td>\n",
       "      <td>...</td>\n",
       "      <td>...</td>\n",
       "      <td>...</td>\n",
       "    </tr>\n",
       "    <tr>\n",
       "      <th>882</th>\n",
       "      <td>1.0</td>\n",
       "      <td>1.0</td>\n",
       "      <td>0.0</td>\n",
       "      <td>1.0</td>\n",
       "      <td>27.0</td>\n",
       "      <td>13.0000</td>\n",
       "      <td>0.0</td>\n",
       "      <td>0.0</td>\n",
       "    </tr>\n",
       "    <tr>\n",
       "      <th>883</th>\n",
       "      <td>1.0</td>\n",
       "      <td>0.0</td>\n",
       "      <td>0.0</td>\n",
       "      <td>0.0</td>\n",
       "      <td>19.0</td>\n",
       "      <td>30.0000</td>\n",
       "      <td>0.0</td>\n",
       "      <td>0.0</td>\n",
       "    </tr>\n",
       "    <tr>\n",
       "      <th>884</th>\n",
       "      <td>1.0</td>\n",
       "      <td>0.0</td>\n",
       "      <td>1.0</td>\n",
       "      <td>0.0</td>\n",
       "      <td>7.0</td>\n",
       "      <td>23.4500</td>\n",
       "      <td>1.0</td>\n",
       "      <td>2.0</td>\n",
       "    </tr>\n",
       "    <tr>\n",
       "      <th>885</th>\n",
       "      <td>1.0</td>\n",
       "      <td>0.0</td>\n",
       "      <td>0.0</td>\n",
       "      <td>1.0</td>\n",
       "      <td>26.0</td>\n",
       "      <td>30.0000</td>\n",
       "      <td>0.0</td>\n",
       "      <td>0.0</td>\n",
       "    </tr>\n",
       "    <tr>\n",
       "      <th>886</th>\n",
       "      <td>1.0</td>\n",
       "      <td>0.0</td>\n",
       "      <td>1.0</td>\n",
       "      <td>1.0</td>\n",
       "      <td>32.0</td>\n",
       "      <td>7.7500</td>\n",
       "      <td>0.0</td>\n",
       "      <td>0.0</td>\n",
       "    </tr>\n",
       "  </tbody>\n",
       "</table>\n",
       "<p>887 rows × 8 columns</p>\n",
       "</div>"
      ],
      "text/plain": [
       "     Intercept  C(Pclass)[T.2]  C(Pclass)[T.3]  C(Sex)[T.male]   Age     Fare  \\\n",
       "0          1.0             0.0             1.0             1.0  22.0   7.2500   \n",
       "1          1.0             0.0             0.0             0.0  38.0  71.2833   \n",
       "2          1.0             0.0             1.0             0.0  26.0   7.9250   \n",
       "3          1.0             0.0             0.0             0.0  35.0  53.1000   \n",
       "4          1.0             0.0             1.0             1.0  35.0   8.0500   \n",
       "..         ...             ...             ...             ...   ...      ...   \n",
       "882        1.0             1.0             0.0             1.0  27.0  13.0000   \n",
       "883        1.0             0.0             0.0             0.0  19.0  30.0000   \n",
       "884        1.0             0.0             1.0             0.0   7.0  23.4500   \n",
       "885        1.0             0.0             0.0             1.0  26.0  30.0000   \n",
       "886        1.0             0.0             1.0             1.0  32.0   7.7500   \n",
       "\n",
       "     Q(\"Siblings/Spouses Aboard\")  Q(\"Parents/Children Aboard\")  \n",
       "0                             1.0                           0.0  \n",
       "1                             1.0                           0.0  \n",
       "2                             0.0                           0.0  \n",
       "3                             1.0                           0.0  \n",
       "4                             0.0                           0.0  \n",
       "..                            ...                           ...  \n",
       "882                           0.0                           0.0  \n",
       "883                           0.0                           0.0  \n",
       "884                           1.0                           2.0  \n",
       "885                           0.0                           0.0  \n",
       "886                           0.0                           0.0  \n",
       "\n",
       "[887 rows x 8 columns]"
      ]
     },
     "execution_count": 3,
     "metadata": {},
     "output_type": "execute_result"
    }
   ],
   "source": [
    "# Have a look of X: Categorical variables would be transformed to dummies\n",
    "X"
   ]
  },
  {
   "cell_type": "code",
   "execution_count": 4,
   "metadata": {},
   "outputs": [
    {
     "name": "stdout",
     "output_type": "stream",
     "text": [
      "                 Generalized Linear Model Regression Results                  \n",
      "==============================================================================\n",
      "Dep. Variable:               Survived   No. Observations:                  887\n",
      "Model:                            GLM   Df Residuals:                      879\n",
      "Model Family:                Binomial   Df Model:                            7\n",
      "Link Function:                  logit   Scale:                          1.0000\n",
      "Method:                          IRLS   Log-Likelihood:                -390.46\n",
      "Date:                Sun, 28 Feb 2021   Deviance:                       780.93\n",
      "Time:                        14:32:24   Pearson chi2:                     913.\n",
      "No. Iterations:                     5                                         \n",
      "Covariance Type:            nonrobust                                         \n",
      "================================================================================================\n",
      "                                   coef    std err          z      P>|z|      [0.025      0.975]\n",
      "------------------------------------------------------------------------------------------------\n",
      "Intercept                        4.1098      0.464      8.865      0.000       3.201       5.018\n",
      "C(Pclass)[T.2]                  -1.1615      0.301     -3.859      0.000      -1.751      -0.572\n",
      "C(Pclass)[T.3]                  -2.3500      0.305     -7.713      0.000      -2.947      -1.753\n",
      "C(Sex)[T.male]                  -2.7567      0.201    -13.739      0.000      -3.150      -2.363\n",
      "Age                             -0.0434      0.008     -5.573      0.000      -0.059      -0.028\n",
      "Fare                             0.0028      0.002      1.144      0.253      -0.002       0.008\n",
      "Q(\"Siblings/Spouses Aboard\")    -0.4016      0.111     -3.624      0.000      -0.619      -0.184\n",
      "Q(\"Parents/Children Aboard\")    -0.1069      0.119     -0.900      0.368      -0.340       0.126\n",
      "================================================================================================\n"
     ]
    }
   ],
   "source": [
    "import statsmodels.api as sm\n",
    "# Fit logistic Regression Model\n",
    "model=sm.GLM(y, X, family=sm.families.Binomial()).fit()\n",
    "print(model.summary())"
   ]
  },
  {
   "cell_type": "markdown",
   "metadata": {},
   "source": [
    "# Investigate Model Performance"
   ]
  },
  {
   "cell_type": "markdown",
   "metadata": {},
   "source": [
    "### Outlier"
   ]
  },
  {
   "cell_type": "code",
   "execution_count": 7,
   "metadata": {},
   "outputs": [
    {
     "data": {
      "text/html": [
       "<div>\n",
       "<style scoped>\n",
       "    .dataframe tbody tr th:only-of-type {\n",
       "        vertical-align: middle;\n",
       "    }\n",
       "\n",
       "    .dataframe tbody tr th {\n",
       "        vertical-align: top;\n",
       "    }\n",
       "\n",
       "    .dataframe thead th {\n",
       "        text-align: right;\n",
       "    }\n",
       "</style>\n",
       "<table border=\"1\" class=\"dataframe\">\n",
       "  <thead>\n",
       "    <tr style=\"text-align: right;\">\n",
       "      <th></th>\n",
       "      <th>dfb_Intercept</th>\n",
       "      <th>dfb_C(Pclass)[T.2]</th>\n",
       "      <th>dfb_C(Pclass)[T.3]</th>\n",
       "      <th>dfb_C(Sex)[T.male]</th>\n",
       "      <th>dfb_Age</th>\n",
       "      <th>dfb_Fare</th>\n",
       "      <th>dfb_Q(\"Siblings/Spouses Aboard\")</th>\n",
       "      <th>dfb_Q(\"Parents/Children Aboard\")</th>\n",
       "      <th>cooks_d</th>\n",
       "      <th>standard_resid</th>\n",
       "      <th>hat_diag</th>\n",
       "      <th>dffits_internal</th>\n",
       "    </tr>\n",
       "  </thead>\n",
       "  <tbody>\n",
       "    <tr>\n",
       "      <th>295</th>\n",
       "      <td>-0.254471</td>\n",
       "      <td>0.147981</td>\n",
       "      <td>0.187712</td>\n",
       "      <td>0.137923</td>\n",
       "      <td>0.275943</td>\n",
       "      <td>-0.121157</td>\n",
       "      <td>0.107892</td>\n",
       "      <td>-0.100432</td>\n",
       "      <td>0.020986</td>\n",
       "      <td>-6.817648</td>\n",
       "      <td>0.003599</td>\n",
       "      <td>-0.409744</td>\n",
       "    </tr>\n",
       "    <tr>\n",
       "      <th>259</th>\n",
       "      <td>-0.049159</td>\n",
       "      <td>-0.015521</td>\n",
       "      <td>0.021454</td>\n",
       "      <td>0.176721</td>\n",
       "      <td>-0.039922</td>\n",
       "      <td>-0.045830</td>\n",
       "      <td>0.291375</td>\n",
       "      <td>0.084260</td>\n",
       "      <td>0.019545</td>\n",
       "      <td>4.194367</td>\n",
       "      <td>0.008809</td>\n",
       "      <td>0.395419</td>\n",
       "    </tr>\n",
       "    <tr>\n",
       "      <th>25</th>\n",
       "      <td>-0.073622</td>\n",
       "      <td>-0.003408</td>\n",
       "      <td>0.036953</td>\n",
       "      <td>0.021142</td>\n",
       "      <td>0.096569</td>\n",
       "      <td>-0.052770</td>\n",
       "      <td>-0.060551</td>\n",
       "      <td>0.360652</td>\n",
       "      <td>0.018874</td>\n",
       "      <td>1.493833</td>\n",
       "      <td>0.063374</td>\n",
       "      <td>0.388575</td>\n",
       "    </tr>\n",
       "    <tr>\n",
       "      <th>117</th>\n",
       "      <td>0.019558</td>\n",
       "      <td>-0.036307</td>\n",
       "      <td>-0.052170</td>\n",
       "      <td>-0.032598</td>\n",
       "      <td>0.076026</td>\n",
       "      <td>-0.309697</td>\n",
       "      <td>0.104691</td>\n",
       "      <td>-0.003364</td>\n",
       "      <td>0.016143</td>\n",
       "      <td>-1.609392</td>\n",
       "      <td>0.047492</td>\n",
       "      <td>-0.359367</td>\n",
       "    </tr>\n",
       "    <tr>\n",
       "      <th>676</th>\n",
       "      <td>-0.113374</td>\n",
       "      <td>0.116161</td>\n",
       "      <td>0.142989</td>\n",
       "      <td>0.021489</td>\n",
       "      <td>0.010789</td>\n",
       "      <td>0.336878</td>\n",
       "      <td>-0.060631</td>\n",
       "      <td>-0.042395</td>\n",
       "      <td>0.014729</td>\n",
       "      <td>0.644138</td>\n",
       "      <td>0.221174</td>\n",
       "      <td>0.343262</td>\n",
       "    </tr>\n",
       "    <tr>\n",
       "      <th>627</th>\n",
       "      <td>-0.124071</td>\n",
       "      <td>-0.030313</td>\n",
       "      <td>0.004630</td>\n",
       "      <td>0.055189</td>\n",
       "      <td>0.264953</td>\n",
       "      <td>-0.060883</td>\n",
       "      <td>0.057293</td>\n",
       "      <td>0.014797</td>\n",
       "      <td>0.012787</td>\n",
       "      <td>2.784546</td>\n",
       "      <td>0.013021</td>\n",
       "      <td>0.319838</td>\n",
       "    </tr>\n",
       "    <tr>\n",
       "      <th>495</th>\n",
       "      <td>-0.115225</td>\n",
       "      <td>0.086357</td>\n",
       "      <td>0.101940</td>\n",
       "      <td>0.112969</td>\n",
       "      <td>0.096625</td>\n",
       "      <td>-0.128262</td>\n",
       "      <td>0.061226</td>\n",
       "      <td>-0.102423</td>\n",
       "      <td>0.011888</td>\n",
       "      <td>-4.142329</td>\n",
       "      <td>0.005512</td>\n",
       "      <td>-0.308396</td>\n",
       "    </tr>\n",
       "    <tr>\n",
       "      <th>733</th>\n",
       "      <td>-0.096317</td>\n",
       "      <td>0.104547</td>\n",
       "      <td>0.128359</td>\n",
       "      <td>0.012292</td>\n",
       "      <td>0.006322</td>\n",
       "      <td>0.303529</td>\n",
       "      <td>-0.045504</td>\n",
       "      <td>-0.070164</td>\n",
       "      <td>0.011847</td>\n",
       "      <td>0.593933</td>\n",
       "      <td>0.211773</td>\n",
       "      <td>0.307856</td>\n",
       "    </tr>\n",
       "    <tr>\n",
       "      <th>567</th>\n",
       "      <td>-0.194672</td>\n",
       "      <td>0.184845</td>\n",
       "      <td>0.119759</td>\n",
       "      <td>0.083855</td>\n",
       "      <td>0.234672</td>\n",
       "      <td>0.007996</td>\n",
       "      <td>0.044715</td>\n",
       "      <td>-0.004728</td>\n",
       "      <td>0.011118</td>\n",
       "      <td>3.451562</td>\n",
       "      <td>0.007411</td>\n",
       "      <td>0.298233</td>\n",
       "    </tr>\n",
       "    <tr>\n",
       "      <th>375</th>\n",
       "      <td>0.009911</td>\n",
       "      <td>-0.003931</td>\n",
       "      <td>-0.014283</td>\n",
       "      <td>-0.044995</td>\n",
       "      <td>0.053552</td>\n",
       "      <td>-0.200420</td>\n",
       "      <td>0.102600</td>\n",
       "      <td>-0.095401</td>\n",
       "      <td>0.010017</td>\n",
       "      <td>-1.354597</td>\n",
       "      <td>0.041847</td>\n",
       "      <td>-0.283089</td>\n",
       "    </tr>\n",
       "  </tbody>\n",
       "</table>\n",
       "</div>"
      ],
      "text/plain": [
       "     dfb_Intercept  dfb_C(Pclass)[T.2]  dfb_C(Pclass)[T.3]  \\\n",
       "295      -0.254471            0.147981            0.187712   \n",
       "259      -0.049159           -0.015521            0.021454   \n",
       "25       -0.073622           -0.003408            0.036953   \n",
       "117       0.019558           -0.036307           -0.052170   \n",
       "676      -0.113374            0.116161            0.142989   \n",
       "627      -0.124071           -0.030313            0.004630   \n",
       "495      -0.115225            0.086357            0.101940   \n",
       "733      -0.096317            0.104547            0.128359   \n",
       "567      -0.194672            0.184845            0.119759   \n",
       "375       0.009911           -0.003931           -0.014283   \n",
       "\n",
       "     dfb_C(Sex)[T.male]   dfb_Age  dfb_Fare  dfb_Q(\"Siblings/Spouses Aboard\")  \\\n",
       "295            0.137923  0.275943 -0.121157                          0.107892   \n",
       "259            0.176721 -0.039922 -0.045830                          0.291375   \n",
       "25             0.021142  0.096569 -0.052770                         -0.060551   \n",
       "117           -0.032598  0.076026 -0.309697                          0.104691   \n",
       "676            0.021489  0.010789  0.336878                         -0.060631   \n",
       "627            0.055189  0.264953 -0.060883                          0.057293   \n",
       "495            0.112969  0.096625 -0.128262                          0.061226   \n",
       "733            0.012292  0.006322  0.303529                         -0.045504   \n",
       "567            0.083855  0.234672  0.007996                          0.044715   \n",
       "375           -0.044995  0.053552 -0.200420                          0.102600   \n",
       "\n",
       "     dfb_Q(\"Parents/Children Aboard\")   cooks_d  standard_resid  hat_diag  \\\n",
       "295                         -0.100432  0.020986       -6.817648  0.003599   \n",
       "259                          0.084260  0.019545        4.194367  0.008809   \n",
       "25                           0.360652  0.018874        1.493833  0.063374   \n",
       "117                         -0.003364  0.016143       -1.609392  0.047492   \n",
       "676                         -0.042395  0.014729        0.644138  0.221174   \n",
       "627                          0.014797  0.012787        2.784546  0.013021   \n",
       "495                         -0.102423  0.011888       -4.142329  0.005512   \n",
       "733                         -0.070164  0.011847        0.593933  0.211773   \n",
       "567                         -0.004728  0.011118        3.451562  0.007411   \n",
       "375                         -0.095401  0.010017       -1.354597  0.041847   \n",
       "\n",
       "     dffits_internal  \n",
       "295        -0.409744  \n",
       "259         0.395419  \n",
       "25          0.388575  \n",
       "117        -0.359367  \n",
       "676         0.343262  \n",
       "627         0.319838  \n",
       "495        -0.308396  \n",
       "733         0.307856  \n",
       "567         0.298233  \n",
       "375        -0.283089  "
      ]
     },
     "execution_count": 7,
     "metadata": {},
     "output_type": "execute_result"
    }
   ],
   "source": [
    "# Get influence measures\n",
    "infl = model.get_influence()\n",
    "summ_df = infl.summary_frame()\n",
    "summ_df.sort_values('cooks_d', ascending=False)[:10]\n",
    "# Do not see outliers"
   ]
  },
  {
   "cell_type": "markdown",
   "metadata": {},
   "source": [
    "### Multicollinearity"
   ]
  },
  {
   "cell_type": "code",
   "execution_count": 8,
   "metadata": {},
   "outputs": [],
   "source": [
    "# calculate VIF\n",
    "from statsmodels.stats.outliers_influence import variance_inflation_factor\n",
    "def calc_vif(X):\n",
    "\n",
    "    # Calculating VIF\n",
    "    vif = pd.DataFrame()\n",
    "    vif[\"variables\"] = X.columns\n",
    "    vif[\"VIF\"] = [variance_inflation_factor(X.values, i) for i in range(X.shape[1])]\n",
    "\n",
    "    return(vif)"
   ]
  },
  {
   "cell_type": "code",
   "execution_count": 9,
   "metadata": {},
   "outputs": [
    {
     "data": {
      "text/html": [
       "<div>\n",
       "<style scoped>\n",
       "    .dataframe tbody tr th:only-of-type {\n",
       "        vertical-align: middle;\n",
       "    }\n",
       "\n",
       "    .dataframe tbody tr th {\n",
       "        vertical-align: top;\n",
       "    }\n",
       "\n",
       "    .dataframe thead th {\n",
       "        text-align: right;\n",
       "    }\n",
       "</style>\n",
       "<table border=\"1\" class=\"dataframe\">\n",
       "  <thead>\n",
       "    <tr style=\"text-align: right;\">\n",
       "      <th></th>\n",
       "      <th>variables</th>\n",
       "      <th>VIF</th>\n",
       "    </tr>\n",
       "  </thead>\n",
       "  <tbody>\n",
       "    <tr>\n",
       "      <th>0</th>\n",
       "      <td>Intercept</td>\n",
       "      <td>21.880183</td>\n",
       "    </tr>\n",
       "    <tr>\n",
       "      <th>1</th>\n",
       "      <td>C(Pclass)[T.2]</td>\n",
       "      <td>2.048946</td>\n",
       "    </tr>\n",
       "    <tr>\n",
       "      <th>2</th>\n",
       "      <td>C(Pclass)[T.3]</td>\n",
       "      <td>2.739690</td>\n",
       "    </tr>\n",
       "    <tr>\n",
       "      <th>3</th>\n",
       "      <td>C(Sex)[T.male]</td>\n",
       "      <td>1.105439</td>\n",
       "    </tr>\n",
       "    <tr>\n",
       "      <th>4</th>\n",
       "      <td>Age</td>\n",
       "      <td>1.328755</td>\n",
       "    </tr>\n",
       "    <tr>\n",
       "      <th>5</th>\n",
       "      <td>Fare</td>\n",
       "      <td>1.734223</td>\n",
       "    </tr>\n",
       "    <tr>\n",
       "      <th>6</th>\n",
       "      <td>Q(\"Siblings/Spouses Aboard\")</td>\n",
       "      <td>1.309475</td>\n",
       "    </tr>\n",
       "    <tr>\n",
       "      <th>7</th>\n",
       "      <td>Q(\"Parents/Children Aboard\")</td>\n",
       "      <td>1.316439</td>\n",
       "    </tr>\n",
       "  </tbody>\n",
       "</table>\n",
       "</div>"
      ],
      "text/plain": [
       "                      variables        VIF\n",
       "0                     Intercept  21.880183\n",
       "1                C(Pclass)[T.2]   2.048946\n",
       "2                C(Pclass)[T.3]   2.739690\n",
       "3                C(Sex)[T.male]   1.105439\n",
       "4                           Age   1.328755\n",
       "5                          Fare   1.734223\n",
       "6  Q(\"Siblings/Spouses Aboard\")   1.309475\n",
       "7  Q(\"Parents/Children Aboard\")   1.316439"
      ]
     },
     "execution_count": 9,
     "metadata": {},
     "output_type": "execute_result"
    }
   ],
   "source": [
    "calc_vif(X)\n",
    "# Do not have multicollinearity"
   ]
  },
  {
   "cell_type": "markdown",
   "metadata": {},
   "source": [
    "### Confusion Matrix"
   ]
  },
  {
   "cell_type": "code",
   "execution_count": 24,
   "metadata": {},
   "outputs": [],
   "source": [
    "pred=model.get_prediction()\n",
    "pred_df = pred.summary_frame()"
   ]
  },
  {
   "cell_type": "code",
   "execution_count": 25,
   "metadata": {},
   "outputs": [],
   "source": [
    "threshold=0.5"
   ]
  },
  {
   "cell_type": "code",
   "execution_count": 26,
   "metadata": {},
   "outputs": [],
   "source": [
    "predicted=[1 if i>=threshold else 0 for i in pred_df['mean']]"
   ]
  },
  {
   "cell_type": "code",
   "execution_count": 31,
   "metadata": {},
   "outputs": [],
   "source": [
    "# Manually Build Confusion Matrix Function\n",
    "from __future__ import division\n",
    "import numpy as np\n",
    "\n",
    "def confusionmatrix(true, predicted, classnames=\"0 1\", verbose=1 ):\n",
    "    true = np.asarray(true, dtype=int )\n",
    "    pred = np.asarray(predicted, dtype=int )\n",
    "    ntrue, npred = true.max() + 1, pred.max() + 1\n",
    "    counts = np.bincount( npred * true + pred, minlength = ntrue * npred )  # 00 01 10 11\n",
    "    confus = counts.reshape(( ntrue, npred ))\n",
    "    if verbose:\n",
    "        print (\"true counts %s:      %s\" % (classnames, np.bincount(true)))\n",
    "        print (\"predicted counts %s: %s\" % (classnames, np.bincount(pred)))\n",
    "        print (\"confusion matrix, true down, predicted across:\\n\", confus)\n",
    "    return confus"
   ]
  },
  {
   "cell_type": "code",
   "execution_count": 47,
   "metadata": {},
   "outputs": [
    {
     "name": "stdout",
     "output_type": "stream",
     "text": [
      "true counts 0 1:      [545 342]\n",
      "predicted counts 0 1: [576 311]\n",
      "confusion matrix, true down, predicted across:\n",
      " [[473  72]\n",
      " [103 239]]\n"
     ]
    },
    {
     "data": {
      "text/plain": [
       "array([[473,  72],\n",
       "       [103, 239]], dtype=int64)"
      ]
     },
     "execution_count": 47,
     "metadata": {},
     "output_type": "execute_result"
    }
   ],
   "source": [
    "confusionmatrix(y['Survived'], predicted)"
   ]
  },
  {
   "cell_type": "code",
   "execution_count": 59,
   "metadata": {},
   "outputs": [],
   "source": [
    "# Use the sklearn confusion matrix function\n",
    "from sklearn.metrics import confusion_matrix\n",
    "confusion_matrix = confusion_matrix(y['Survived'], predicted)"
   ]
  },
  {
   "cell_type": "code",
   "execution_count": 61,
   "metadata": {},
   "outputs": [
    {
     "data": {
      "text/plain": [
       "Text(0.5, 257.44, 'Predicted label')"
      ]
     },
     "execution_count": 61,
     "metadata": {},
     "output_type": "execute_result"
    },
    {
     "data": {
      "image/png": "[encoded data removed]",
      "text/plain": [
       "<Figure size 432x288 with 2 Axes>"
      ]
     },
     "metadata": {},
     "output_type": "display_data"
    }
   ],
   "source": [
    "# Plot confusion matrix\n",
    "from matplotlib import pyplot as plt\n",
    "import seaborn as sns\n",
    "sns.set(style=\"white\")\n",
    "sns.set(style=\"whitegrid\", color_codes=True)\n",
    "\n",
    "fig, ax = plt.subplots()\n",
    "\n",
    "class_names=[0,1]\n",
    "tick_marks = np.arange(len(class_names))\n",
    "plt.xticks(tick_marks, class_names)\n",
    "plt.yticks(tick_marks, class_names)\n",
    "\n",
    "sns.heatmap(pd.DataFrame(confusion_matrix), annot=True, cmap=\"YlGnBu\" ,fmt='g')\n",
    "ax.xaxis.set_label_position(\"top\")\n",
    "plt.tight_layout()\n",
    "plt.title('Confusion matrix', y=1.1)\n",
    "plt.ylabel('Actual label')\n",
    "plt.xlabel('Predicted label')"
   ]
  },
  {
   "cell_type": "markdown",
   "metadata": {},
   "source": [
    "### F1 Score"
   ]
  },
  {
   "cell_type": "code",
   "execution_count": 50,
   "metadata": {},
   "outputs": [],
   "source": [
    "# Use confusion metrics to calculate\n",
    "precison=239/(239+72)\n",
    "recall=239/(239+103)\n",
    "f1_score_cal=2*(precison*recall)/(precison+recall)"
   ]
  },
  {
   "cell_type": "code",
   "execution_count": 51,
   "metadata": {},
   "outputs": [
    {
     "data": {
      "text/plain": [
       "0.7320061255742726"
      ]
     },
     "execution_count": 51,
     "metadata": {},
     "output_type": "execute_result"
    }
   ],
   "source": [
    "f1_score_cal"
   ]
  },
  {
   "cell_type": "code",
   "execution_count": 58,
   "metadata": {},
   "outputs": [
    {
     "name": "stdout",
     "output_type": "stream",
     "text": [
      "Accuracy: 0.80\n",
      "Error rate: 0.20\n",
      "Precision: 0.77\n",
      "Recall: 0.70\n",
      "f1_score: 0.73\n"
     ]
    }
   ],
   "source": [
    "# Use sklearn to get F1 score\n",
    "from sklearn.metrics import accuracy_score\n",
    "from sklearn.metrics import precision_score\n",
    "from sklearn.metrics import recall_score\n",
    "from sklearn.metrics import f1_score\n",
    "from sklearn.metrics import confusion_matrix\n",
    "from sklearn.metrics import roc_auc_score\n",
    "from sklearn.metrics import roc_curve\n",
    "from sklearn.model_selection import cross_val_score\n",
    "print('Accuracy: {:.2f}'.format(accuracy_score(y['Survived'], predicted)))\n",
    "print('Error rate: {:.2f}'.format(1 - accuracy_score(y['Survived'], predicted)))\n",
    "print('Precision: {:.2f}'.format(precision_score(y['Survived'], predicted)))\n",
    "print('Recall: {:.2f}'.format(recall_score(y['Survived'], predicted)))\n",
    "print('f1_score: {:.2f}'.format(f1_score(y['Survived'], predicted)))"
   ]
  },
  {
   "cell_type": "markdown",
   "metadata": {},
   "source": [
    "### ROC/AUC"
   ]
  },
  {
   "cell_type": "code",
   "execution_count": 72,
   "metadata": {},
   "outputs": [
    {
     "name": "stderr",
     "output_type": "stream",
     "text": [
      "C:\\Users\\xue.ju\\AppData\\Local\\Continuum\\anaconda\\lib\\site-packages\\sklearn\\utils\\validation.py:63: DataConversionWarning: A column-vector y was passed when a 1d array was expected. Please change the shape of y to (n_samples, ), for example using ravel().\n",
      "  return f(*args, **kwargs)\n",
      "C:\\Users\\xue.ju\\AppData\\Local\\Continuum\\anaconda\\lib\\site-packages\\sklearn\\linear_model\\_logistic.py:765: ConvergenceWarning: lbfgs failed to converge (status=1):\n",
      "STOP: TOTAL NO. of ITERATIONS REACHED LIMIT.\n",
      "\n",
      "Increase the number of iterations (max_iter) or scale the data as shown in:\n",
      "    https://scikit-learn.org/stable/modules/preprocessing.html\n",
      "Please also refer to the documentation for alternative solver options:\n",
      "    https://scikit-learn.org/stable/modules/linear_model.html#logistic-regression\n",
      "  extra_warning_msg=_LOGISTIC_SOLVER_CONVERGENCE_MSG)\n"
     ]
    },
    {
     "data": {
      "image/png": "[encoded data removed]",
      "text/plain": [
       "<Figure size 432x288 with 1 Axes>"
      ]
     },
     "metadata": {},
     "output_type": "display_data"
    }
   ],
   "source": [
    "from sklearn.linear_model import LogisticRegression\n",
    "logreg = LogisticRegression()\n",
    "logreg.fit(X, y)\n",
    "logit_roc_auc = roc_auc_score(y, logreg.predict(X))\n",
    "fpr, tpr, thresholds = roc_curve(y, logreg.predict_proba(X)[:,1])\n",
    "plt.figure()\n",
    "plt.plot(fpr, tpr, label='Logistic Regression (area = %0.2f)' % logit_roc_auc)\n",
    "plt.plot([0, 1], [0, 1],'r--')\n",
    "plt.xlim([0.0, 1.0])\n",
    "plt.ylim([0.0, 1.05])\n",
    "plt.xlabel('False Positive Rate')\n",
    "plt.ylabel('True Positive Rate')\n",
    "plt.title('Receiver operating characteristic ROC')\n",
    "plt.legend(loc=\"lower right\")\n",
    "\n",
    "plt.show()"
   ]
  },
  {
   "cell_type": "code",
   "execution_count": 66,
   "metadata": {},
   "outputs": [],
   "source": [
    "logit_roc_auc = roc_auc_score(y['Survived'], predicted)"
   ]
  },
  {
   "cell_type": "code",
   "execution_count": 67,
   "metadata": {},
   "outputs": [
    {
     "data": {
      "text/plain": [
       "0.7833601588068029"
      ]
     },
     "execution_count": 67,
     "metadata": {},
     "output_type": "execute_result"
    }
   ],
   "source": [
    "logit_roc_auc"
   ]
  }
 ],
 "metadata": {
  "kernelspec": {
   "display_name": "Python 3",
   "language": "python",
   "name": "python3"
  },
  "language_info": {
   "codemirror_mode": {
    "name": "ipython",
    "version": 3
   },
   "file_extension": ".py",
   "mimetype": "text/x-python",
   "name": "python",
   "nbconvert_exporter": "python",
   "pygments_lexer": "ipython3",
   "version": "3.7.3"
  }
 },
 "nbformat": 4,
 "nbformat_minor": 2
}
