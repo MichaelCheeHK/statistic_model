{
 "cells": [
  {
   "cell_type": "markdown",
   "id": "finished-electricity",
   "metadata": {},
   "source": [
    "# Read Data"
   ]
  },
  {
   "cell_type": "code",
   "execution_count": 1,
   "id": "industrial-assessment",
   "metadata": {},
   "outputs": [
    {
     "data": {
      "text/html": [
       "<div>\n",
       "<style scoped>\n",
       "    .dataframe tbody tr th:only-of-type {\n",
       "        vertical-align: middle;\n",
       "    }\n",
       "\n",
       "    .dataframe tbody tr th {\n",
       "        vertical-align: top;\n",
       "    }\n",
       "\n",
       "    .dataframe thead th {\n",
       "        text-align: right;\n",
       "    }\n",
       "</style>\n",
       "<table border=\"1\" class=\"dataframe\">\n",
       "  <thead>\n",
       "    <tr style=\"text-align: right;\">\n",
       "      <th></th>\n",
       "      <th>sepal.length</th>\n",
       "      <th>petal.length</th>\n",
       "      <th>variety</th>\n",
       "    </tr>\n",
       "  </thead>\n",
       "  <tbody>\n",
       "    <tr>\n",
       "      <th>0</th>\n",
       "      <td>5.1</td>\n",
       "      <td>1.4</td>\n",
       "      <td>Setosa</td>\n",
       "    </tr>\n",
       "    <tr>\n",
       "      <th>1</th>\n",
       "      <td>4.9</td>\n",
       "      <td>1.4</td>\n",
       "      <td>Setosa</td>\n",
       "    </tr>\n",
       "    <tr>\n",
       "      <th>2</th>\n",
       "      <td>4.7</td>\n",
       "      <td>1.3</td>\n",
       "      <td>Setosa</td>\n",
       "    </tr>\n",
       "    <tr>\n",
       "      <th>3</th>\n",
       "      <td>4.6</td>\n",
       "      <td>1.5</td>\n",
       "      <td>Setosa</td>\n",
       "    </tr>\n",
       "    <tr>\n",
       "      <th>4</th>\n",
       "      <td>5.0</td>\n",
       "      <td>1.4</td>\n",
       "      <td>Setosa</td>\n",
       "    </tr>\n",
       "  </tbody>\n",
       "</table>\n",
       "</div>"
      ],
      "text/plain": [
       "   sepal.length  petal.length variety\n",
       "0           5.1           1.4  Setosa\n",
       "1           4.9           1.4  Setosa\n",
       "2           4.7           1.3  Setosa\n",
       "3           4.6           1.5  Setosa\n",
       "4           5.0           1.4  Setosa"
      ]
     },
     "execution_count": 1,
     "metadata": {},
     "output_type": "execute_result"
    }
   ],
   "source": [
    "# Read data\n",
    "import pandas as pd\n",
    "df=pd.read_csv('iris.csv')\n",
    "# Only select two values in the dependent variable to make it binary classification problem\n",
    "# Only pick 2 feature in order to make easier for modelling and visulisation\n",
    "df=df[df['variety'].isin(['Setosa', 'Versicolor'])]\n",
    "df=df[['sepal.length','petal.length', 'variety']]\n",
    "df.head()"
   ]
  },
  {
   "cell_type": "markdown",
   "id": "single-exhibit",
   "metadata": {},
   "source": [
    "# Data Processing"
   ]
  },
  {
   "cell_type": "code",
   "execution_count": 2,
   "id": "consistent-cocktail",
   "metadata": {},
   "outputs": [],
   "source": [
    "# encode data\n",
    "from sklearn.preprocessing import LabelEncoder\n",
    "\n",
    "X = df[['sepal.length','petal.length']].values\n",
    "y = df['variety'].values\n",
    "\n",
    "enc = LabelEncoder()\n",
    "label_encoder = enc.fit(y)\n",
    "y = label_encoder.transform(y) + 1\n",
    "\n",
    "label_dict = {1: 'Setosa', 2: 'Versicolor'}"
   ]
  },
  {
   "cell_type": "code",
   "execution_count": 4,
   "id": "pleased-oxide",
   "metadata": {},
   "outputs": [],
   "source": [
    "# Let standardize the data\n",
    "from sklearn import preprocessing\n",
    "standard_scaler=preprocessing.StandardScaler()\n",
    "scaled_X = standard_scaler.fit_transform(X)"
   ]
  },
  {
   "cell_type": "code",
   "execution_count": 5,
   "id": "isolated-provider",
   "metadata": {},
   "outputs": [],
   "source": [
    "#Let's split the data\n",
    "from sklearn.model_selection import train_test_split\n",
    "x_train, x_test, y_train, y_test = train_test_split(scaled_X, y, train_size=0.9)"
   ]
  },
  {
   "cell_type": "markdown",
   "id": "generous-bacteria",
   "metadata": {},
   "source": [
    "# Fit LDA"
   ]
  },
  {
   "cell_type": "code",
   "execution_count": 56,
   "id": "severe-stick",
   "metadata": {},
   "outputs": [
    {
     "data": {
      "text/plain": [
       "LinearDiscriminantAnalysis(n_components=1, solver='eigen')"
      ]
     },
     "execution_count": 56,
     "metadata": {},
     "output_type": "execute_result"
    }
   ],
   "source": [
    "from sklearn.discriminant_analysis import LinearDiscriminantAnalysis\n",
    "clf=LinearDiscriminantAnalysis(solver='eigen', n_components=1)\n",
    "clf.fit(x_train, y_train)"
   ]
  },
  {
   "cell_type": "code",
   "execution_count": 57,
   "id": "suburban-marine",
   "metadata": {},
   "outputs": [
    {
     "data": {
      "text/plain": [
       "array([2, 2, 2, 1, 2, 2, 2, 1, 1, 1])"
      ]
     },
     "execution_count": 57,
     "metadata": {},
     "output_type": "execute_result"
    }
   ],
   "source": [
    "clf.predict(x_test)"
   ]
  },
  {
   "cell_type": "code",
   "execution_count": 58,
   "id": "critical-coffee",
   "metadata": {},
   "outputs": [
    {
     "data": {
      "text/plain": [
       "array([2, 2, 2, 1, 2, 2, 2, 1, 1, 1])"
      ]
     },
     "execution_count": 58,
     "metadata": {},
     "output_type": "execute_result"
    }
   ],
   "source": [
    "y_test"
   ]
  },
  {
   "cell_type": "code",
   "execution_count": 59,
   "id": "alleged-platform",
   "metadata": {},
   "outputs": [
    {
     "data": {
      "text/plain": [
       "array([-7.12321029, 46.27703824])"
      ]
     },
     "execution_count": 59,
     "metadata": {},
     "output_type": "execute_result"
    }
   ],
   "source": [
    "w=clf.coef_[0]\n",
    "a=w[0]/w[1]\n",
    "b=(clf.intercept_[0])/w[1]\n",
    "w"
   ]
  },
  {
   "cell_type": "code",
   "execution_count": 60,
   "id": "cooked-mirror",
   "metadata": {},
   "outputs": [
    {
     "data": {
      "image/png": "[encoded data removed]",
      "text/plain": [
       "<Figure size 576x432 with 1 Axes>"
      ]
     },
     "metadata": {
      "needs_background": "light"
     },
     "output_type": "display_data"
    }
   ],
   "source": [
    "import matplotlib.pyplot as plt\n",
    "import numpy as np\n",
    "xx = np.linspace(-2, 3)\n",
    "yy = a * xx-b\n",
    "\n",
    "plt.figure(figsize=(8,6))\n",
    "plt.clf()\n",
    "plt.plot(xx, yy, \"k-\")\n",
    "plt.scatter(x_train[:,0], x_train[:,1], c=y_train, zorder=10, cmap=plt.cm.Paired,\n",
    " edgecolors=\"k\")\n",
    "plt.xlabel(\"x1\")\n",
    "plt.ylabel(\"x2\")\n",
    "plt.show()"
   ]
  },
  {
   "cell_type": "code",
   "execution_count": 61,
   "id": "retired-somerset",
   "metadata": {},
   "outputs": [
    {
     "data": {
      "text/plain": [
       "array([[0.00000000e+00, 1.00000000e+00],\n",
       "       [1.62092562e-14, 1.00000000e+00],\n",
       "       [5.66213743e-14, 1.00000000e+00],\n",
       "       [1.00000000e+00, 4.45215121e-16],\n",
       "       [0.00000000e+00, 1.00000000e+00],\n",
       "       [0.00000000e+00, 1.00000000e+00],\n",
       "       [4.59554461e-09, 9.99999995e-01],\n",
       "       [1.00000000e+00, 1.56017451e-15],\n",
       "       [1.00000000e+00, 2.21889939e-18],\n",
       "       [1.00000000e+00, 2.38285679e-19]])"
      ]
     },
     "execution_count": 61,
     "metadata": {},
     "output_type": "execute_result"
    }
   ],
   "source": [
    "# Probability of class1 VS class2\n",
    "clf.predict_proba(x_test)"
   ]
  },
  {
   "cell_type": "code",
   "execution_count": 62,
   "id": "empty-nomination",
   "metadata": {},
   "outputs": [
    {
     "name": "stdout",
     "output_type": "stream",
     "text": [
      "[ 49.8918081   31.75587296  30.50187759 -35.34797409  40.26601646\n",
      "  51.00745625  19.19817856 -34.09397872 -40.64952037 -42.88081667]\n"
     ]
    }
   ],
   "source": [
    "# The decision function is equal (up to a constant factor) to the log-posterior of the model, i.e. log p(y = k | x). \n",
    "# In a binary classification setting this instead corresponds to the difference log p(y = 1 | x) - log p(y = 0 | x)\n",
    "# The first number is positive which mean p(class2)>p(class1), then predict as class2\n",
    "print(clf.decision_function(x_test))"
   ]
  },
  {
   "cell_type": "code",
   "execution_count": 63,
   "id": "duplicate-albania",
   "metadata": {},
   "outputs": [
    {
     "data": {
      "text/plain": [
       "array([[0.48092489, 0.1067405 ],\n",
       "       [0.1067405 , 0.05876302]])"
      ]
     },
     "execution_count": 63,
     "metadata": {},
     "output_type": "execute_result"
    }
   ],
   "source": [
    "# This is the within class scatter matrix (n_features, n_features), covariance matrix\n",
    "# Covariance provides insight into how two variables are related to one another. \n",
    "# covariance_matrix[x1x1(variance of x1), x1x2(covariance of x1x2)\n",
    "#                   x2x1(covariance of x2x1), x2x2(variance of x2)]\n",
    "# This is a sum up of 2 groups' covariance matrix\n",
    "clf.covariance_"
   ]
  },
  {
   "cell_type": "code",
   "execution_count": 64,
   "id": "checked-celtic",
   "metadata": {},
   "outputs": [
    {
     "data": {
      "text/plain": [
       "array([[-0.71385373, -0.97077401],\n",
       "       [ 0.80005129,  0.98826934]])"
      ]
     },
     "execution_count": 64,
     "metadata": {},
     "output_type": "execute_result"
    }
   ],
   "source": [
    "# d-dimentional mean vectors\n",
    "clf.means_"
   ]
  },
  {
   "cell_type": "code",
   "execution_count": 65,
   "id": "another-video",
   "metadata": {},
   "outputs": [
    {
     "data": {
      "text/plain": [
       "array([1.])"
      ]
     },
     "execution_count": 65,
     "metadata": {},
     "output_type": "execute_result"
    }
   ],
   "source": [
    "# explained_variance_ratio_ndarray of shape (n_components,) is the ratio of the variance explained after projection\n",
    "clf.explained_variance_ratio_"
   ]
  },
  {
   "cell_type": "code",
   "execution_count": 42,
   "id": "understanding-rocket",
   "metadata": {},
   "outputs": [],
   "source": [
    "clf_transform_result=clf.transform(x_train)"
   ]
  },
  {
   "cell_type": "code",
   "execution_count": 41,
   "id": "legitimate-harassment",
   "metadata": {},
   "outputs": [
    {
     "data": {
      "image/png": "[encoded data removed]",
      "text/plain": [
       "<Figure size 2160x720 with 1 Axes>"
      ]
     },
     "metadata": {
      "needs_background": "light"
     },
     "output_type": "display_data"
    }
   ],
   "source": [
    "plt.figure(figsize=(30,10))\n",
    "xmin = -7\n",
    "xmax = 8\n",
    "y_position = 0\n",
    "height = 1\n",
    "plt.hlines(y_position, xmin, xmax)\n",
    "plt.scatter(clf.transform(x_train)[y_train==1],np.array(sum(y_train==1)*[0]), s=200, marker='o',color='green')\n",
    "plt.scatter(clf.transform(x_train)[y_train==2],np.array(sum(y_train==2)*[0]), s=200, marker='o',color='red')\n",
    "# plt.axis('off')\n",
    "plt.show()"
   ]
  },
  {
   "cell_type": "markdown",
   "id": "statutory-river",
   "metadata": {},
   "source": [
    "# Fit SVM"
   ]
  },
  {
   "cell_type": "code",
   "execution_count": 68,
   "id": "absolute-florist",
   "metadata": {},
   "outputs": [],
   "source": [
    "from sklearn import svm\n",
    "\n",
    "# Create a svm Classifier. Let give it a big C to make it hard margin \n",
    "clf=svm.SVC(kernel='linear', C=100)"
   ]
  },
  {
   "cell_type": "code",
   "execution_count": 69,
   "id": "martial-milton",
   "metadata": {},
   "outputs": [
    {
     "data": {
      "text/plain": [
       "SVC(C=100, kernel='linear')"
      ]
     },
     "execution_count": 69,
     "metadata": {},
     "output_type": "execute_result"
    }
   ],
   "source": [
    "# Train the model using the training sets\n",
    "clf.fit(x_train, y_train)"
   ]
  },
  {
   "cell_type": "code",
   "execution_count": 77,
   "id": "oriental-wallet",
   "metadata": {},
   "outputs": [
    {
     "data": {
      "image/png": "[encoded data removed]",
      "text/plain": [
       "<Figure size 576x432 with 1 Axes>"
      ]
     },
     "metadata": {
      "needs_background": "light"
     },
     "output_type": "display_data"
    }
   ],
   "source": [
    "w=clf.coef_[0]\n",
    "a=-w[0]/w[1]\n",
    "b=(clf.intercept_[0])/w[1]\n",
    "xx = np.linspace(-2, 2.5)\n",
    "yy = a * xx-(clf.intercept_[0]) / w[1]\n",
    "margin = 1 / np.sqrt(np.sum(clf.coef_ ** 2))\n",
    "yy_down = yy-np.sqrt(1 + a ** 2) * margin\n",
    "yy_up = yy + np.sqrt(1 + a ** 2) * margin\n",
    "plt.figure(figsize=(8,6))\n",
    "plt.clf()\n",
    "plt.plot(xx, yy, \"k-\")\n",
    "plt.plot(xx, yy_down, \"k-\")\n",
    "plt.plot(xx, yy_up, \"k-\")\n",
    "plt.scatter(clf.support_vectors_[:, 0], clf.support_vectors_[:, 1], s=80,\n",
    " facecolors=\"none\", zorder=10, edgecolors=\"k\")\n",
    "plt.scatter(x_train[:,0], x_train[:,1], c=y_train, zorder=10, cmap=plt.cm.Paired,\n",
    " edgecolors=\"k\")\n",
    "plt.xlabel(\"x1\")\n",
    "plt.ylabel(\"x2\")\n",
    "plt.show()"
   ]
  },
  {
   "cell_type": "markdown",
   "id": "numerical-nickname",
   "metadata": {},
   "source": [
    "# Fit Logistic Regression"
   ]
  },
  {
   "cell_type": "code",
   "execution_count": 78,
   "id": "sustainable-dress",
   "metadata": {},
   "outputs": [
    {
     "data": {
      "text/plain": [
       "LogisticRegression(C=100)"
      ]
     },
     "execution_count": 78,
     "metadata": {},
     "output_type": "execute_result"
    }
   ],
   "source": [
    "from sklearn.linear_model import LogisticRegression\n",
    "clf = LogisticRegression(C=100)\n",
    "clf.fit(x_train, y_train)"
   ]
  },
  {
   "cell_type": "code",
   "execution_count": 80,
   "id": "every-chicago",
   "metadata": {},
   "outputs": [
    {
     "data": {
      "image/png": "[encoded data removed]",
      "text/plain": [
       "<Figure size 576x432 with 1 Axes>"
      ]
     },
     "metadata": {
      "needs_background": "light"
     },
     "output_type": "display_data"
    }
   ],
   "source": [
    "w=clf.coef_[0]\n",
    "a=-w[0]/w[1]\n",
    "b=(clf.intercept_[0])/w[1]\n",
    "xx = np.linspace(-2, 3)\n",
    "yy = a * xx-b\n",
    "\n",
    "plt.figure(figsize=(8,6))\n",
    "plt.clf()\n",
    "plt.plot(xx, yy, \"k-\")\n",
    "plt.scatter(x_train[:,0], x_train[:,1], c=y_train, zorder=10, cmap=plt.cm.Paired,\n",
    " edgecolors=\"k\")\n",
    "plt.xlabel(\"x1\")\n",
    "plt.ylabel(\"x2\")\n",
    "plt.show()"
   ]
  }
 ],
 "metadata": {
  "kernelspec": {
   "display_name": "Python 3",
   "language": "python",
   "name": "python3"
  },
  "language_info": {
   "codemirror_mode": {
    "name": "ipython",
    "version": 3
   },
   "file_extension": ".py",
   "mimetype": "text/x-python",
   "name": "python",
   "nbconvert_exporter": "python",
   "pygments_lexer": "ipython3",
   "version": "3.7.3"
  }
 },
 "nbformat": 4,
 "nbformat_minor": 5
}
